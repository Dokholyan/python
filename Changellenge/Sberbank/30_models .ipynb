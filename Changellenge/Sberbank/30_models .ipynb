{
 "cells": [
  {
   "cell_type": "code",
   "execution_count": 2,
   "metadata": {
    "ExecuteTime": {
     "end_time": "2018-04-01T12:24:21.846394Z",
     "start_time": "2018-04-01T12:24:20.971926Z"
    }
   },
   "outputs": [
    {
     "name": "stderr",
     "output_type": "stream",
     "text": [
      "/home/vladimir/anaconda3/lib/python3.6/site-packages/sklearn/cross_validation.py:41: DeprecationWarning: This module was deprecated in version 0.18 in favor of the model_selection module into which all the refactored classes and functions are moved. Also note that the interface of the new CV iterators are different from that of this module. This module will be removed in 0.20.\n",
      "  \"This module will be removed in 0.20.\", DeprecationWarning)\n"
     ]
    }
   ],
   "source": [
    "import pandas as pd\n",
    "import math as m\n",
    "import matplotlib.pyplot as plt\n",
    "from sklearn.cross_validation import train_test_split\n",
    "import numpy as np\n",
    "from tqdm import tqdm_notebook\n",
    "from sklearn import  metrics\n",
    "from sklearn.ensemble import RandomForestClassifier\n",
    "from xgboost import XGBClassifier\n",
    "from sklearn.metrics import accuracy_score, log_loss, f1_score\n",
    "from sklearn.linear_model import LogisticRegression, LinearRegression\n",
    "from catboost import CatBoostClassifier\n",
    "from sklearn.model_selection import cross_val_score, cross_val_predict\n",
    "import lightgbm as lgbm\n",
    "from sklearn.model_selection import cross_val_predict, cross_val_score\n",
    "from sklearn.linear_model import LogisticRegression\n",
    "from sklearn.ensemble import RandomForestClassifier\n",
    "from sklearn.neighbors import KNeighborsClassifier as KNN\n",
    "from sklearn.ensemble import ExtraTreesClassifier\n",
    "from sklearn.svm import SVC\n",
    "from sklearn.ensemble import AdaBoostClassifier\n",
    "%matplotlib inline"
   ]
  },
  {
   "cell_type": "code",
   "execution_count": 3,
   "metadata": {
    "ExecuteTime": {
     "end_time": "2018-04-01T12:24:21.909209Z",
     "start_time": "2018-04-01T12:24:21.893412Z"
    }
   },
   "outputs": [
    {
     "name": "stderr",
     "output_type": "stream",
     "text": [
      "/home/vladimir/anaconda3/lib/python3.6/site-packages/ipykernel_launcher.py:1: FutureWarning: from_csv is deprecated. Please use read_csv(...) instead. Note that some of the default arguments are different, so please refer to the documentation for from_csv when changing your function calls\n",
      "  \"\"\"Entry point for launching an IPython kernel.\n"
     ]
    }
   ],
   "source": [
    "train = pd.DataFrame.from_csv('final_data_to_AHAN.csv')"
   ]
  },
  {
   "cell_type": "code",
   "execution_count": 4,
   "metadata": {
    "ExecuteTime": {
     "end_time": "2018-04-01T12:24:22.715563Z",
     "start_time": "2018-04-01T12:24:22.711498Z"
    }
   },
   "outputs": [],
   "source": [
    "\n",
    "def get_data_model(train, n, target_col = 'target'):\n",
    "    if n==1:\n",
    "        print ('Already exists')\n",
    "    else:\n",
    "        train[target_col+'_'+str(n)] = np.nan\n",
    "        train.loc[:,target_col+'_'+str(n)] = np.append(train[target_col][n-1:].values,[np.nan]*(n-1))"
   ]
  },
  {
   "cell_type": "code",
   "execution_count": 5,
   "metadata": {
    "ExecuteTime": {
     "end_time": "2018-04-01T12:24:23.131826Z",
     "start_time": "2018-04-01T12:24:23.103883Z"
    }
   },
   "outputs": [],
   "source": [
    "\n",
    "np.random.seed(42)\n",
    "def predict(train, type_models, blend_type, test_days):\n",
    "    for i in range(2, test_days+1):\n",
    "        get_data_model(train, n=i)\n",
    "    target_col = [\"target\"+'_'+str(x) for x in range(1,test_days+1)]\n",
    "    target_col[0] = 'target'\n",
    "    estimaters = []\n",
    "    \n",
    "    for i in range(test_days):\n",
    "        k = i%(len(type_models))\n",
    "        model = type_models[k]#RandomForestClassifier(max_depth=3)\n",
    "        model.fit(pd.concat([train.drop(target_col, axis=1), train[target_col[i]]], axis=1).dropna().drop(target_col[i], axis=1),\n",
    "                     train[target_col[i]].dropna())\n",
    "        estimaters.append(model)\n",
    "        \n",
    "    pred_month = []\n",
    "    for day in range(1, test_days+1):\n",
    "        pred_day = []\n",
    "        for i in range(day-1, test_days):\n",
    "            pred_day.append(estimaters[i].predict_proba(train.iloc[[-(i+1)+day-1]].drop(target_col, axis=1))[0][0])\n",
    "        pred_day = np.array(pred_day)\n",
    "        pred_month.append(pred_day)\n",
    "    pred_month = np.array(pred_month)\n",
    "    \n",
    "    preds = []\n",
    "    if (blend_type == 'mean'):\n",
    "        for i in range(test_days):\n",
    "            preds.append(1-(pred_month[i].mean().round()))\n",
    "    elif (blend_type == 'weights'):\n",
    "        for i in range(test_days):\n",
    "            if i == test_days-2:\n",
    "                weights = np.array([0.7, 0.3])\n",
    "            elif i == test_days-1:\n",
    "                weights = np.array([1])\n",
    "            else:\n",
    "                weights = np.array([0.5, 0.2]+[(1-0.7)/(test_days-i-2)] *(test_days-i-2))\n",
    "            preds.append(1-(pred_month[i]*weights).sum().round())\n",
    "    return preds, pred_month"
   ]
  },
  {
   "cell_type": "code",
   "execution_count": 6,
   "metadata": {
    "ExecuteTime": {
     "end_time": "2018-04-01T12:32:07.337671Z",
     "start_time": "2018-04-01T12:32:05.302520Z"
    }
   },
   "outputs": [
    {
     "name": "stderr",
     "output_type": "stream",
     "text": [
      "/home/vladimir/anaconda3/lib/python3.6/site-packages/ipykernel_launcher.py:6: SettingWithCopyWarning: \n",
      "A value is trying to be set on a copy of a slice from a DataFrame.\n",
      "Try using .loc[row_indexer,col_indexer] = value instead\n",
      "\n",
      "See the caveats in the documentation: http://pandas.pydata.org/pandas-docs/stable/indexing.html#indexing-view-versus-copy\n",
      "  \n",
      "/home/vladimir/anaconda3/lib/python3.6/site-packages/pandas/core/indexing.py:537: SettingWithCopyWarning: \n",
      "A value is trying to be set on a copy of a slice from a DataFrame.\n",
      "Try using .loc[row_indexer,col_indexer] = value instead\n",
      "\n",
      "See the caveats in the documentation: http://pandas.pydata.org/pandas-docs/stable/indexing.html#indexing-view-versus-copy\n",
      "  self.obj[item] = s\n"
     ]
    }
   ],
   "source": [
    "\n",
    "rand = 20\n",
    "pred, month = predict(train[:], [XGBClassifier(seed=rand),\n",
    "                                 RandomForestClassifier(max_depth=2, random_state=rand),\n",
    "                                 KNN(),\n",
    "                                 XGBClassifier(seed=rand),\n",
    "                                 KNN()], \n",
    "                                blend_type = 'weights', test_days = 20)"
   ]
  },
  {
   "cell_type": "code",
   "execution_count": 7,
   "metadata": {},
   "outputs": [
    {
     "data": {
      "text/plain": [
       "[0.0,\n",
       " 0.0,\n",
       " 1.0,\n",
       " 0.0,\n",
       " 1.0,\n",
       " 0.0,\n",
       " 1.0,\n",
       " 1.0,\n",
       " 0.0,\n",
       " 1.0,\n",
       " 0.0,\n",
       " 0.0,\n",
       " 1.0,\n",
       " 0.0,\n",
       " 1.0,\n",
       " 0.0,\n",
       " 1.0,\n",
       " 1.0,\n",
       " 0.0,\n",
       " 1.0]"
      ]
     },
     "execution_count": 7,
     "metadata": {},
     "output_type": "execute_result"
    }
   ],
   "source": [
    "pred"
   ]
  }
 ],
 "metadata": {
  "kernelspec": {
   "display_name": "Python 3",
   "language": "python",
   "name": "python3"
  },
  "language_info": {
   "codemirror_mode": {
    "name": "ipython",
    "version": 3
   },
   "file_extension": ".py",
   "mimetype": "text/x-python",
   "name": "python",
   "nbconvert_exporter": "python",
   "pygments_lexer": "ipython3",
   "version": "3.6.4"
  },
  "toc": {
   "nav_menu": {},
   "number_sections": true,
   "sideBar": true,
   "skip_h1_title": false,
   "title_cell": "Table of Contents",
   "title_sidebar": "Contents",
   "toc_cell": false,
   "toc_position": {
    "height": "calc(100% - 180px)",
    "left": "10px",
    "top": "150px",
    "width": "179px"
   },
   "toc_section_display": true,
   "toc_window_display": false
  },
  "varInspector": {
   "cols": {
    "lenName": 16,
    "lenType": 16,
    "lenVar": 40
   },
   "kernels_config": {
    "python": {
     "delete_cmd_postfix": "",
     "delete_cmd_prefix": "del ",
     "library": "var_list.py",
     "varRefreshCmd": "print(var_dic_list())"
    },
    "r": {
     "delete_cmd_postfix": ") ",
     "delete_cmd_prefix": "rm(",
     "library": "var_list.r",
     "varRefreshCmd": "cat(var_dic_list()) "
    }
   },
   "types_to_exclude": [
    "module",
    "function",
    "builtin_function_or_method",
    "instance",
    "_Feature"
   ],
   "window_display": false
  }
 },
 "nbformat": 4,
 "nbformat_minor": 2
}
