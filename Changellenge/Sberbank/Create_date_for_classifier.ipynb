{
 "cells": [
  {
   "cell_type": "code",
   "execution_count": 1,
   "metadata": {},
   "outputs": [
    {
     "name": "stderr",
     "output_type": "stream",
     "text": [
      "/home/vladimir/anaconda3/lib/python3.6/site-packages/statsmodels/compat/pandas.py:56: FutureWarning: The pandas.core.datetools module is deprecated and will be removed in a future version. Please use the pandas.tseries module instead.\n",
      "  from pandas.core import datetools\n"
     ]
    },
    {
     "name": "stdout",
     "output_type": "stream",
     "text": [
      "Populating the interactive namespace from numpy and matplotlib\n"
     ]
    },
    {
     "name": "stderr",
     "output_type": "stream",
     "text": [
      "/home/vladimir/anaconda3/lib/python3.6/site-packages/IPython/core/magics/pylab.py:160: UserWarning: pylab import has clobbered these variables: ['product', 'time', 'datetime']\n",
      "`%matplotlib` prevents importing * from pylab and numpy\n",
      "  \"\\n`%matplotlib` prevents importing * from pylab and numpy\"\n"
     ]
    }
   ],
   "source": [
    "import pandas as pd\n",
    "import math as m\n",
    "from scipy import stats\n",
    "import numpy as np\n",
    "import statsmodels.api as sm\n",
    "import matplotlib.pyplot as plt\n",
    "from sklearn import  metrics\n",
    "from itertools import product\n",
    "from datetime import datetime, date, time\n",
    "import calendar\n",
    "%pylab inline"
   ]
  },
  {
   "cell_type": "code",
   "execution_count": 2,
   "metadata": {},
   "outputs": [],
   "source": [
    "data = pd.read_csv('trade_data.csv')"
   ]
  },
  {
   "cell_type": "code",
   "execution_count": 3,
   "metadata": {},
   "outputs": [],
   "source": [
    "data.loc[len(data)] = ['02.03.18', 0, 0, 0, 0, 0 ,0 ,0 ,0]"
   ]
  },
  {
   "cell_type": "code",
   "execution_count": 4,
   "metadata": {},
   "outputs": [
    {
     "data": {
      "text/html": [
       "<div>\n",
       "<style scoped>\n",
       "    .dataframe tbody tr th:only-of-type {\n",
       "        vertical-align: middle;\n",
       "    }\n",
       "\n",
       "    .dataframe tbody tr th {\n",
       "        vertical-align: top;\n",
       "    }\n",
       "\n",
       "    .dataframe thead th {\n",
       "        text-align: right;\n",
       "    }\n",
       "</style>\n",
       "<table border=\"1\" class=\"dataframe\">\n",
       "  <thead>\n",
       "    <tr style=\"text-align: right;\">\n",
       "      <th></th>\n",
       "      <th>DATE</th>\n",
       "      <th>OPEN</th>\n",
       "      <th>HIGH</th>\n",
       "      <th>LOW</th>\n",
       "      <th>CLOSE</th>\n",
       "      <th>WAP</th>\n",
       "      <th>LTTIME</th>\n",
       "      <th>VALUE</th>\n",
       "      <th>NUMTRADES</th>\n",
       "    </tr>\n",
       "  </thead>\n",
       "  <tbody>\n",
       "    <tr>\n",
       "      <th>144</th>\n",
       "      <td>16.02.18</td>\n",
       "      <td>7.39</td>\n",
       "      <td>7.41</td>\n",
       "      <td>7.10</td>\n",
       "      <td>7.10</td>\n",
       "      <td>7.36</td>\n",
       "      <td>19:42:53</td>\n",
       "      <td>56239609000</td>\n",
       "      <td>275</td>\n",
       "    </tr>\n",
       "    <tr>\n",
       "      <th>145</th>\n",
       "      <td>19.02.18</td>\n",
       "      <td>7.40</td>\n",
       "      <td>7.43</td>\n",
       "      <td>7.00</td>\n",
       "      <td>7.00</td>\n",
       "      <td>7.36</td>\n",
       "      <td>19:40:53</td>\n",
       "      <td>54464443000</td>\n",
       "      <td>245</td>\n",
       "    </tr>\n",
       "    <tr>\n",
       "      <th>146</th>\n",
       "      <td>20.02.18</td>\n",
       "      <td>7.40</td>\n",
       "      <td>7.44</td>\n",
       "      <td>6.55</td>\n",
       "      <td>6.56</td>\n",
       "      <td>7.25</td>\n",
       "      <td>19:36:32</td>\n",
       "      <td>69780141000</td>\n",
       "      <td>291</td>\n",
       "    </tr>\n",
       "    <tr>\n",
       "      <th>147</th>\n",
       "      <td>21.02.18</td>\n",
       "      <td>7.35</td>\n",
       "      <td>7.40</td>\n",
       "      <td>6.51</td>\n",
       "      <td>6.70</td>\n",
       "      <td>7.16</td>\n",
       "      <td>20:08:00</td>\n",
       "      <td>60339491000</td>\n",
       "      <td>257</td>\n",
       "    </tr>\n",
       "    <tr>\n",
       "      <th>148</th>\n",
       "      <td>22.02.18</td>\n",
       "      <td>7.30</td>\n",
       "      <td>7.50</td>\n",
       "      <td>7.16</td>\n",
       "      <td>7.21</td>\n",
       "      <td>7.23</td>\n",
       "      <td>20:09:05</td>\n",
       "      <td>53151449000</td>\n",
       "      <td>182</td>\n",
       "    </tr>\n",
       "    <tr>\n",
       "      <th>149</th>\n",
       "      <td>26.02.18</td>\n",
       "      <td>7.25</td>\n",
       "      <td>7.50</td>\n",
       "      <td>7.05</td>\n",
       "      <td>7.05</td>\n",
       "      <td>7.30</td>\n",
       "      <td>19:41:39</td>\n",
       "      <td>61576300000</td>\n",
       "      <td>221</td>\n",
       "    </tr>\n",
       "    <tr>\n",
       "      <th>150</th>\n",
       "      <td>27.02.18</td>\n",
       "      <td>7.40</td>\n",
       "      <td>7.50</td>\n",
       "      <td>6.40</td>\n",
       "      <td>6.40</td>\n",
       "      <td>7.35</td>\n",
       "      <td>19:33:28</td>\n",
       "      <td>64882758000</td>\n",
       "      <td>262</td>\n",
       "    </tr>\n",
       "    <tr>\n",
       "      <th>151</th>\n",
       "      <td>28.02.18</td>\n",
       "      <td>7.40</td>\n",
       "      <td>7.60</td>\n",
       "      <td>6.75</td>\n",
       "      <td>7.25</td>\n",
       "      <td>7.39</td>\n",
       "      <td>20:14:04</td>\n",
       "      <td>65498153519</td>\n",
       "      <td>228</td>\n",
       "    </tr>\n",
       "    <tr>\n",
       "      <th>152</th>\n",
       "      <td>01.03.18</td>\n",
       "      <td>7.25</td>\n",
       "      <td>7.50</td>\n",
       "      <td>6.85</td>\n",
       "      <td>6.85</td>\n",
       "      <td>7.38</td>\n",
       "      <td>19:45:15</td>\n",
       "      <td>65880295481</td>\n",
       "      <td>257</td>\n",
       "    </tr>\n",
       "    <tr>\n",
       "      <th>153</th>\n",
       "      <td>02.03.18</td>\n",
       "      <td>0.00</td>\n",
       "      <td>0.00</td>\n",
       "      <td>0.00</td>\n",
       "      <td>0.00</td>\n",
       "      <td>0.00</td>\n",
       "      <td>0</td>\n",
       "      <td>0</td>\n",
       "      <td>0</td>\n",
       "    </tr>\n",
       "  </tbody>\n",
       "</table>\n",
       "</div>"
      ],
      "text/plain": [
       "         DATE  OPEN  HIGH   LOW  CLOSE   WAP    LTTIME        VALUE  NUMTRADES\n",
       "144  16.02.18  7.39  7.41  7.10   7.10  7.36  19:42:53  56239609000        275\n",
       "145  19.02.18  7.40  7.43  7.00   7.00  7.36  19:40:53  54464443000        245\n",
       "146  20.02.18  7.40  7.44  6.55   6.56  7.25  19:36:32  69780141000        291\n",
       "147  21.02.18  7.35  7.40  6.51   6.70  7.16  20:08:00  60339491000        257\n",
       "148  22.02.18  7.30  7.50  7.16   7.21  7.23  20:09:05  53151449000        182\n",
       "149  26.02.18  7.25  7.50  7.05   7.05  7.30  19:41:39  61576300000        221\n",
       "150  27.02.18  7.40  7.50  6.40   6.40  7.35  19:33:28  64882758000        262\n",
       "151  28.02.18  7.40  7.60  6.75   7.25  7.39  20:14:04  65498153519        228\n",
       "152  01.03.18  7.25  7.50  6.85   6.85  7.38  19:45:15  65880295481        257\n",
       "153  02.03.18  0.00  0.00  0.00   0.00  0.00         0            0          0"
      ]
     },
     "execution_count": 4,
     "metadata": {},
     "output_type": "execute_result"
    }
   ],
   "source": [
    "data[-10:]"
   ]
  },
  {
   "cell_type": "code",
   "execution_count": 5,
   "metadata": {},
   "outputs": [
    {
     "data": {
      "text/html": [
       "<div>\n",
       "<style scoped>\n",
       "    .dataframe tbody tr th:only-of-type {\n",
       "        vertical-align: middle;\n",
       "    }\n",
       "\n",
       "    .dataframe tbody tr th {\n",
       "        vertical-align: top;\n",
       "    }\n",
       "\n",
       "    .dataframe thead th {\n",
       "        text-align: right;\n",
       "    }\n",
       "</style>\n",
       "<table border=\"1\" class=\"dataframe\">\n",
       "  <thead>\n",
       "    <tr style=\"text-align: right;\">\n",
       "      <th></th>\n",
       "      <th>OPEN</th>\n",
       "      <th>HIGH</th>\n",
       "      <th>LOW</th>\n",
       "      <th>CLOSE</th>\n",
       "      <th>WAP</th>\n",
       "      <th>LTTIME</th>\n",
       "      <th>VALUE</th>\n",
       "      <th>NUMTRADES</th>\n",
       "      <th>DAY</th>\n",
       "      <th>MONTH</th>\n",
       "    </tr>\n",
       "  </thead>\n",
       "  <tbody>\n",
       "    <tr>\n",
       "      <th>2017-07-24</th>\n",
       "      <td>9.11</td>\n",
       "      <td>9.15</td>\n",
       "      <td>8.50</td>\n",
       "      <td>8.55</td>\n",
       "      <td>8.97</td>\n",
       "      <td>NaN</td>\n",
       "      <td>2325011000</td>\n",
       "      <td>37</td>\n",
       "      <td>1</td>\n",
       "      <td>7</td>\n",
       "    </tr>\n",
       "    <tr>\n",
       "      <th>2017-07-25</th>\n",
       "      <td>9.09</td>\n",
       "      <td>9.10</td>\n",
       "      <td>8.81</td>\n",
       "      <td>8.81</td>\n",
       "      <td>9.02</td>\n",
       "      <td>NaN</td>\n",
       "      <td>3477388000</td>\n",
       "      <td>31</td>\n",
       "      <td>2</td>\n",
       "      <td>7</td>\n",
       "    </tr>\n",
       "    <tr>\n",
       "      <th>2017-07-26</th>\n",
       "      <td>9.06</td>\n",
       "      <td>9.35</td>\n",
       "      <td>9.05</td>\n",
       "      <td>9.10</td>\n",
       "      <td>9.15</td>\n",
       "      <td>NaN</td>\n",
       "      <td>6537394000</td>\n",
       "      <td>36</td>\n",
       "      <td>3</td>\n",
       "      <td>7</td>\n",
       "    </tr>\n",
       "    <tr>\n",
       "      <th>2017-07-27</th>\n",
       "      <td>9.17</td>\n",
       "      <td>9.40</td>\n",
       "      <td>9.17</td>\n",
       "      <td>9.25</td>\n",
       "      <td>9.30</td>\n",
       "      <td>NaN</td>\n",
       "      <td>3387899000</td>\n",
       "      <td>26</td>\n",
       "      <td>4</td>\n",
       "      <td>7</td>\n",
       "    </tr>\n",
       "    <tr>\n",
       "      <th>2017-07-28</th>\n",
       "      <td>9.31</td>\n",
       "      <td>9.32</td>\n",
       "      <td>9.20</td>\n",
       "      <td>9.20</td>\n",
       "      <td>9.26</td>\n",
       "      <td>NaN</td>\n",
       "      <td>4659405000</td>\n",
       "      <td>31</td>\n",
       "      <td>5</td>\n",
       "      <td>7</td>\n",
       "    </tr>\n",
       "  </tbody>\n",
       "</table>\n",
       "</div>"
      ],
      "text/plain": [
       "            OPEN  HIGH   LOW  CLOSE   WAP LTTIME       VALUE  NUMTRADES  DAY  \\\n",
       "2017-07-24  9.11  9.15  8.50   8.55  8.97    NaN  2325011000         37    1   \n",
       "2017-07-25  9.09  9.10  8.81   8.81  9.02    NaN  3477388000         31    2   \n",
       "2017-07-26  9.06  9.35  9.05   9.10  9.15    NaN  6537394000         36    3   \n",
       "2017-07-27  9.17  9.40  9.17   9.25  9.30    NaN  3387899000         26    4   \n",
       "2017-07-28  9.31  9.32  9.20   9.20  9.26    NaN  4659405000         31    5   \n",
       "\n",
       "            MONTH  \n",
       "2017-07-24      7  \n",
       "2017-07-25      7  \n",
       "2017-07-26      7  \n",
       "2017-07-27      7  \n",
       "2017-07-28      7  "
      ]
     },
     "execution_count": 5,
     "metadata": {},
     "output_type": "execute_result"
    }
   ],
   "source": [
    "#Обработаем время\n",
    "#Create by Asim\n",
    "from datetime import datetime, date, time\n",
    "k = 0\n",
    "data['DAY'] = 0\n",
    "data['MONTH'] = 0\n",
    "date = []\n",
    "for i in data.DATE:\n",
    "    d = datetime.strptime(i,'%d.%m.%y')\n",
    "    date.append(d)\n",
    "    data.loc[k,'DAY'] = datetime.isoweekday(d)\n",
    "    data.loc[k,'MONTH'] = d.month\n",
    "    k = k + 1\n",
    "data.index = date\n",
    "data.drop('DATE', axis =1, inplace=True)\n",
    "data.head()"
   ]
  },
  {
   "cell_type": "code",
   "execution_count": 6,
   "metadata": {},
   "outputs": [
    {
     "data": {
      "text/html": [
       "<div>\n",
       "<style scoped>\n",
       "    .dataframe tbody tr th:only-of-type {\n",
       "        vertical-align: middle;\n",
       "    }\n",
       "\n",
       "    .dataframe tbody tr th {\n",
       "        vertical-align: top;\n",
       "    }\n",
       "\n",
       "    .dataframe thead th {\n",
       "        text-align: right;\n",
       "    }\n",
       "</style>\n",
       "<table border=\"1\" class=\"dataframe\">\n",
       "  <thead>\n",
       "    <tr style=\"text-align: right;\">\n",
       "      <th></th>\n",
       "      <th>OPEN</th>\n",
       "      <th>HIGH</th>\n",
       "      <th>LOW</th>\n",
       "      <th>CLOSE</th>\n",
       "      <th>WAP</th>\n",
       "      <th>LTTIME</th>\n",
       "      <th>VALUE</th>\n",
       "      <th>NUMTRADES</th>\n",
       "      <th>DAY</th>\n",
       "      <th>MONTH</th>\n",
       "      <th>target</th>\n",
       "    </tr>\n",
       "  </thead>\n",
       "  <tbody>\n",
       "    <tr>\n",
       "      <th>2018-02-16</th>\n",
       "      <td>7.39</td>\n",
       "      <td>7.41</td>\n",
       "      <td>7.10</td>\n",
       "      <td>7.10</td>\n",
       "      <td>7.36</td>\n",
       "      <td>19:42:53</td>\n",
       "      <td>56239609000</td>\n",
       "      <td>275</td>\n",
       "      <td>5</td>\n",
       "      <td>2</td>\n",
       "      <td>1</td>\n",
       "    </tr>\n",
       "    <tr>\n",
       "      <th>2018-02-19</th>\n",
       "      <td>7.40</td>\n",
       "      <td>7.43</td>\n",
       "      <td>7.00</td>\n",
       "      <td>7.00</td>\n",
       "      <td>7.36</td>\n",
       "      <td>19:40:53</td>\n",
       "      <td>54464443000</td>\n",
       "      <td>245</td>\n",
       "      <td>1</td>\n",
       "      <td>2</td>\n",
       "      <td>0</td>\n",
       "    </tr>\n",
       "    <tr>\n",
       "      <th>2018-02-20</th>\n",
       "      <td>7.40</td>\n",
       "      <td>7.44</td>\n",
       "      <td>6.55</td>\n",
       "      <td>6.56</td>\n",
       "      <td>7.25</td>\n",
       "      <td>19:36:32</td>\n",
       "      <td>69780141000</td>\n",
       "      <td>291</td>\n",
       "      <td>2</td>\n",
       "      <td>2</td>\n",
       "      <td>0</td>\n",
       "    </tr>\n",
       "    <tr>\n",
       "      <th>2018-02-21</th>\n",
       "      <td>7.35</td>\n",
       "      <td>7.40</td>\n",
       "      <td>6.51</td>\n",
       "      <td>6.70</td>\n",
       "      <td>7.16</td>\n",
       "      <td>20:08:00</td>\n",
       "      <td>60339491000</td>\n",
       "      <td>257</td>\n",
       "      <td>3</td>\n",
       "      <td>2</td>\n",
       "      <td>0</td>\n",
       "    </tr>\n",
       "    <tr>\n",
       "      <th>2018-02-22</th>\n",
       "      <td>7.30</td>\n",
       "      <td>7.50</td>\n",
       "      <td>7.16</td>\n",
       "      <td>7.21</td>\n",
       "      <td>7.23</td>\n",
       "      <td>20:09:05</td>\n",
       "      <td>53151449000</td>\n",
       "      <td>182</td>\n",
       "      <td>4</td>\n",
       "      <td>2</td>\n",
       "      <td>1</td>\n",
       "    </tr>\n",
       "    <tr>\n",
       "      <th>2018-02-26</th>\n",
       "      <td>7.25</td>\n",
       "      <td>7.50</td>\n",
       "      <td>7.05</td>\n",
       "      <td>7.05</td>\n",
       "      <td>7.30</td>\n",
       "      <td>19:41:39</td>\n",
       "      <td>61576300000</td>\n",
       "      <td>221</td>\n",
       "      <td>1</td>\n",
       "      <td>2</td>\n",
       "      <td>1</td>\n",
       "    </tr>\n",
       "    <tr>\n",
       "      <th>2018-02-27</th>\n",
       "      <td>7.40</td>\n",
       "      <td>7.50</td>\n",
       "      <td>6.40</td>\n",
       "      <td>6.40</td>\n",
       "      <td>7.35</td>\n",
       "      <td>19:33:28</td>\n",
       "      <td>64882758000</td>\n",
       "      <td>262</td>\n",
       "      <td>2</td>\n",
       "      <td>2</td>\n",
       "      <td>1</td>\n",
       "    </tr>\n",
       "    <tr>\n",
       "      <th>2018-02-28</th>\n",
       "      <td>7.40</td>\n",
       "      <td>7.60</td>\n",
       "      <td>6.75</td>\n",
       "      <td>7.25</td>\n",
       "      <td>7.39</td>\n",
       "      <td>20:14:04</td>\n",
       "      <td>65498153519</td>\n",
       "      <td>228</td>\n",
       "      <td>3</td>\n",
       "      <td>2</td>\n",
       "      <td>1</td>\n",
       "    </tr>\n",
       "    <tr>\n",
       "      <th>2018-03-01</th>\n",
       "      <td>7.25</td>\n",
       "      <td>7.50</td>\n",
       "      <td>6.85</td>\n",
       "      <td>6.85</td>\n",
       "      <td>7.38</td>\n",
       "      <td>19:45:15</td>\n",
       "      <td>65880295481</td>\n",
       "      <td>257</td>\n",
       "      <td>4</td>\n",
       "      <td>3</td>\n",
       "      <td>0</td>\n",
       "    </tr>\n",
       "    <tr>\n",
       "      <th>2018-03-02</th>\n",
       "      <td>0.00</td>\n",
       "      <td>0.00</td>\n",
       "      <td>0.00</td>\n",
       "      <td>0.00</td>\n",
       "      <td>0.00</td>\n",
       "      <td>0</td>\n",
       "      <td>0</td>\n",
       "      <td>0</td>\n",
       "      <td>5</td>\n",
       "      <td>3</td>\n",
       "      <td>0</td>\n",
       "    </tr>\n",
       "  </tbody>\n",
       "</table>\n",
       "</div>"
      ],
      "text/plain": [
       "            OPEN  HIGH   LOW  CLOSE   WAP    LTTIME        VALUE  NUMTRADES  \\\n",
       "2018-02-16  7.39  7.41  7.10   7.10  7.36  19:42:53  56239609000        275   \n",
       "2018-02-19  7.40  7.43  7.00   7.00  7.36  19:40:53  54464443000        245   \n",
       "2018-02-20  7.40  7.44  6.55   6.56  7.25  19:36:32  69780141000        291   \n",
       "2018-02-21  7.35  7.40  6.51   6.70  7.16  20:08:00  60339491000        257   \n",
       "2018-02-22  7.30  7.50  7.16   7.21  7.23  20:09:05  53151449000        182   \n",
       "2018-02-26  7.25  7.50  7.05   7.05  7.30  19:41:39  61576300000        221   \n",
       "2018-02-27  7.40  7.50  6.40   6.40  7.35  19:33:28  64882758000        262   \n",
       "2018-02-28  7.40  7.60  6.75   7.25  7.39  20:14:04  65498153519        228   \n",
       "2018-03-01  7.25  7.50  6.85   6.85  7.38  19:45:15  65880295481        257   \n",
       "2018-03-02  0.00  0.00  0.00   0.00  0.00         0            0          0   \n",
       "\n",
       "            DAY  MONTH  target  \n",
       "2018-02-16    5      2       1  \n",
       "2018-02-19    1      2       0  \n",
       "2018-02-20    2      2       0  \n",
       "2018-02-21    3      2       0  \n",
       "2018-02-22    4      2       1  \n",
       "2018-02-26    1      2       1  \n",
       "2018-02-27    2      2       1  \n",
       "2018-02-28    3      2       1  \n",
       "2018-03-01    4      3       0  \n",
       "2018-03-02    5      3       0  "
      ]
     },
     "execution_count": 6,
     "metadata": {},
     "output_type": "execute_result"
    }
   ],
   "source": [
    "#добавим target\n",
    "target = []\n",
    "target.append(1)#просто так как он первый ----?-----\n",
    "for i in range(1, len(data)):\n",
    "    if data.WAP[i] > data.WAP[i-1]:\n",
    "        target.append(1)\n",
    "    else:\n",
    "        target.append(0)\n",
    "data['target'] = target\n",
    "data[-10:]"
   ]
  },
  {
   "cell_type": "markdown",
   "metadata": {},
   "source": [
    "Удалим Выброс"
   ]
  },
  {
   "cell_type": "code",
   "execution_count": 7,
   "metadata": {},
   "outputs": [
    {
     "data": {
      "text/plain": [
       "<matplotlib.axes._subplots.AxesSubplot at 0x7ff4a131cbe0>"
      ]
     },
     "execution_count": 7,
     "metadata": {},
     "output_type": "execute_result"
    },
    {
     "data": {
      "image/png": "[encoded data removed]",
      "text/plain": [
       "<matplotlib.figure.Figure at 0x7ff4a12d1588>"
      ]
     },
     "metadata": {},
     "output_type": "display_data"
    }
   ],
   "source": [
    "plt.figure(figsize(15,7))\n",
    "data.WAP[:-1].plot()"
   ]
  },
  {
   "cell_type": "code",
   "execution_count": 8,
   "metadata": {},
   "outputs": [],
   "source": [
    "data = pd.concat([data[:'2017-12-27'],data['2018-01-10':] ], axis = 0)"
   ]
  },
  {
   "cell_type": "code",
   "execution_count": 9,
   "metadata": {},
   "outputs": [
    {
     "data": {
      "text/plain": [
       "(149, 11)"
      ]
     },
     "execution_count": 9,
     "metadata": {},
     "output_type": "execute_result"
    }
   ],
   "source": [
    "data.shape"
   ]
  },
  {
   "cell_type": "code",
   "execution_count": 10,
   "metadata": {},
   "outputs": [
    {
     "data": {
      "text/plain": [
       "(array([73.,  0., 76.]),\n",
       " array([0.        , 0.33333333, 0.66666667, 1.        ]),\n",
       " <a list of 3 Patch objects>)"
      ]
     },
     "execution_count": 10,
     "metadata": {},
     "output_type": "execute_result"
    },
    {
     "data": {
      "image/png": "[encoded data removed]",
      "text/plain": [
       "<matplotlib.figure.Figure at 0x7ff498d19390>"
      ]
     },
     "metadata": {},
     "output_type": "display_data"
    }
   ],
   "source": [
    "\n",
    "plt.hist(data.target, bins=3)"
   ]
  },
  {
   "cell_type": "markdown",
   "metadata": {},
   "source": [
    "## Сгенерируем новые данные"
   ]
  },
  {
   "cell_type": "markdown",
   "metadata": {},
   "source": [
    "#### ЛАГИ"
   ]
  },
  {
   "cell_type": "code",
   "execution_count": 11,
   "metadata": {},
   "outputs": [],
   "source": [
    "#Функция на вход получает DataFrame с панельными данными\n",
    "#Возвращает DataFrame с лагами\n",
    "def time_series_to_DataFrame(data, lags, target):\n",
    "    lags = list(map(lambda x: x+1, lags))\n",
    "    #Готовим название колонок\n",
    "    columns = []\n",
    "    for i in range(len(data.columns)):\n",
    "        #print (i , lags[i])\n",
    "        for j in range(1, lags[i]):\n",
    "            #print ('i = ', i,'j = ',j)\n",
    "            #print (columns)\n",
    "            columns.append(data.columns[i] + '_lag_' + str(j))\n",
    "    columns.append(target)\n",
    "    #готовим target\n",
    "    target = pd.DataFrame(data[target].values[max(lags)-1:])\n",
    "    #готовим индексы\n",
    "    index = data.index\n",
    "    \n",
    "    \n",
    "    data = data.values\n",
    "    \n",
    "    new_data = []\n",
    "    for i in range(max(lags)-1,len(data)):\n",
    "        res = []\n",
    "        for lag in range(len(lags)):\n",
    "            for j in range(1,lags[lag]):\n",
    "                res.append(data[i-j][lag])\n",
    "        new_data.append(res)\n",
    "    \n",
    "    \n",
    "    new_data = pd.DataFrame(new_data)\n",
    "    new_data = pd.concat([new_data, target], axis = 1)\n",
    "    new_data.columns = columns\n",
    "    new_data.index = index[max(lags)-1:]\n",
    "    return new_data"
   ]
  },
  {
   "cell_type": "markdown",
   "metadata": {},
   "source": [
    "### Процентное изменение"
   ]
  },
  {
   "cell_type": "code",
   "execution_count": 12,
   "metadata": {},
   "outputs": [],
   "source": [
    "def percent_change(data, lag, target, percent = None):\n",
    "    lag += 1\n",
    "    new_data = []\n",
    "    new_DataFrame = pd.DataFrame()\n",
    "    new_DataFrame[target] = data[target][lag:]\n",
    "    new_DataFrame.index = data.index[lag:]\n",
    "    for i in range( lag ,len(data)):\n",
    "        res = []\n",
    "        for j in range(1,lag):\n",
    "            if percent == True:\n",
    "                res.append(data[target][i-j]/data[target][i-j-1] * 100 - 100)\n",
    "            else:\n",
    "                res.append(data[target][i-j]/data[target][i-j-1])\n",
    "        new_data.append(res)\n",
    "    import numpy as np\n",
    "    new_data = np.array(new_data)\n",
    "    new_data = new_data.transpose()\n",
    "    for i in range(1, lag):\n",
    "        new_DataFrame[target + '_percent_change_' + str(i)] = new_data[i-1]\n",
    "    new_DataFrame.drop(target, axis = 1, inplace=True)\n",
    "    return new_DataFrame"
   ]
  },
  {
   "cell_type": "code",
   "execution_count": 13,
   "metadata": {},
   "outputs": [],
   "source": [
    "def percent_change_DataFrame(data, list_of_percent_change, percent = None):\n",
    "    shape = []\n",
    "    for i in list_of_percent_change:\n",
    "        shape.append(i[1])\n",
    "    shape = max(shape)\n",
    "    shape = len(data) - shape - 1\n",
    "    \n",
    "    data_percent_change = pd.DataFrame()\n",
    "    data_percent_change['target'] = data.target[-shape:]\n",
    "    data_percent_change.index = data.index[-shape:]\n",
    "    \n",
    "    for i in list_of_percent_change:\n",
    "        DataFrame = percent_change(data, i[1], i[0], percent)\n",
    "        data_percent_change = pd.concat([data_percent_change, DataFrame[-shape:]], axis = 1 )\n",
    "    data_percent_change.drop('target', axis = 1, inplace=True)\n",
    "    return data_percent_change"
   ]
  },
  {
   "cell_type": "markdown",
   "metadata": {},
   "source": [
    "### скользящие среднее"
   ]
  },
  {
   "cell_type": "code",
   "execution_count": 14,
   "metadata": {},
   "outputs": [],
   "source": [
    "def moving_average(data, lag, target):\n",
    "    averege = []\n",
    "    new_DataFrame = pd.DataFrame()\n",
    "    for i in range(lag,len(data[target])):\n",
    "        sum_ = 0\n",
    "        for j in range(1, lag + 1):\n",
    "            sum_ += data[target][i - j]\n",
    "        averege.append(sum_/(lag))\n",
    "    new_DataFrame[target + '_averege_' + str(lag)] = averege\n",
    "    new_DataFrame.index = data.index[lag:]\n",
    "    return new_DataFrame"
   ]
  },
  {
   "cell_type": "code",
   "execution_count": 15,
   "metadata": {},
   "outputs": [],
   "source": [
    "def moving_average_DataFrame(data, list_of_moving_average):\n",
    "    shape = []\n",
    "    for i in list_of_moving_average:\n",
    "        shape.append(i[1])\n",
    "    shape = max(shape)\n",
    "    shape = len(data) - shape\n",
    "    \n",
    "    data_moving_average = pd.DataFrame()\n",
    "    data_moving_average['target'] = data.target[-shape:]\n",
    "    data_moving_average.index = data.index[-shape:]\n",
    "    \n",
    "    for i in list_of_moving_average:\n",
    "        DataFrame = moving_average(data, i[1], i[0])\n",
    "        data_moving_average = pd.concat([data_moving_average, DataFrame[-shape:]], axis = 1 )\n",
    "    data_moving_average.drop('target', axis = 1, inplace=True)\n",
    "    return data_moving_average"
   ]
  },
  {
   "cell_type": "markdown",
   "metadata": {},
   "source": [
    "### Скользящие среднее геометрическое"
   ]
  },
  {
   "cell_type": "code",
   "execution_count": 16,
   "metadata": {},
   "outputs": [],
   "source": [
    "def moving_average_geom(data, lag, target, percent = None):\n",
    "    lag += 1\n",
    "    \n",
    "    new_data = []\n",
    "    for i in range( lag ,len(data)):\n",
    "        res = 1\n",
    "        for j in range(1,lag):\n",
    "            res *= (data[target][i-j]/data[target][i-j-1])\n",
    "        res = res ** (1/(lag - 1))\n",
    "        if percent == True:\n",
    "            res = res *100 - 100\n",
    "        new_data.append(res)\n",
    "    \n",
    "    new_DataFrame = pd.DataFrame()\n",
    "    new_DataFrame[target + 'average_geom' + str(lag-1)] = new_data\n",
    "    new_DataFrame.index = data.index[lag:]\n",
    "    \n",
    "    return new_DataFrame"
   ]
  },
  {
   "cell_type": "code",
   "execution_count": 17,
   "metadata": {},
   "outputs": [
    {
     "data": {
      "text/html": [
       "<div>\n",
       "<style scoped>\n",
       "    .dataframe tbody tr th:only-of-type {\n",
       "        vertical-align: middle;\n",
       "    }\n",
       "\n",
       "    .dataframe tbody tr th {\n",
       "        vertical-align: top;\n",
       "    }\n",
       "\n",
       "    .dataframe thead th {\n",
       "        text-align: right;\n",
       "    }\n",
       "</style>\n",
       "<table border=\"1\" class=\"dataframe\">\n",
       "  <thead>\n",
       "    <tr style=\"text-align: right;\">\n",
       "      <th></th>\n",
       "      <th>WAPaverage_geom3</th>\n",
       "    </tr>\n",
       "  </thead>\n",
       "  <tbody>\n",
       "    <tr>\n",
       "      <th>2017-07-28</th>\n",
       "      <td>1.211572</td>\n",
       "    </tr>\n",
       "    <tr>\n",
       "      <th>2017-07-31</th>\n",
       "      <td>0.879166</td>\n",
       "    </tr>\n",
       "    <tr>\n",
       "      <th>2017-08-01</th>\n",
       "      <td>0.218103</td>\n",
       "    </tr>\n",
       "    <tr>\n",
       "      <th>2017-08-02</th>\n",
       "      <td>-0.395830</td>\n",
       "    </tr>\n",
       "    <tr>\n",
       "      <th>2017-08-03</th>\n",
       "      <td>-0.615735</td>\n",
       "    </tr>\n",
       "  </tbody>\n",
       "</table>\n",
       "</div>"
      ],
      "text/plain": [
       "            WAPaverage_geom3\n",
       "2017-07-28          1.211572\n",
       "2017-07-31          0.879166\n",
       "2017-08-01          0.218103\n",
       "2017-08-02         -0.395830\n",
       "2017-08-03         -0.615735"
      ]
     },
     "execution_count": 17,
     "metadata": {},
     "output_type": "execute_result"
    }
   ],
   "source": [
    "moving_average_geom(data, 3, \"WAP\", True).head()"
   ]
  },
  {
   "cell_type": "markdown",
   "metadata": {},
   "source": [
    "### Количество подряд идущих"
   ]
  },
  {
   "cell_type": "code",
   "execution_count": 18,
   "metadata": {},
   "outputs": [],
   "source": [
    "def consecutive(data,target):\n",
    "    consecutive_0 = [0]\n",
    "    consecutive_1 = [0]\n",
    "    for i in range(1, len(data)):\n",
    "        j = 1\n",
    "        consecutive_0.append(0)\n",
    "        consecutive_1.append(0)\n",
    "        while i - j >= 0 and data[target][i-j] == 1:\n",
    "            consecutive_1[i] += 1\n",
    "            j += 1 \n",
    "        j = 1\n",
    "        while i - j >= 0 and data[target][i-j] == 0:\n",
    "            consecutive_0[i] += 1\n",
    "            j += 1\n",
    "    \n",
    "    data_new = pd.DataFrame()\n",
    "    data_new[target + '_consecutive_0'] = consecutive_0\n",
    "    data_new[target + '_consecutive_1'] = consecutive_1\n",
    "    data_new.index = data.index\n",
    "    return data_new"
   ]
  },
  {
   "cell_type": "code",
   "execution_count": 19,
   "metadata": {},
   "outputs": [
    {
     "data": {
      "text/html": [
       "<div>\n",
       "<style scoped>\n",
       "    .dataframe tbody tr th:only-of-type {\n",
       "        vertical-align: middle;\n",
       "    }\n",
       "\n",
       "    .dataframe tbody tr th {\n",
       "        vertical-align: top;\n",
       "    }\n",
       "\n",
       "    .dataframe thead th {\n",
       "        text-align: right;\n",
       "    }\n",
       "</style>\n",
       "<table border=\"1\" class=\"dataframe\">\n",
       "  <thead>\n",
       "    <tr style=\"text-align: right;\">\n",
       "      <th></th>\n",
       "      <th>target_consecutive_0</th>\n",
       "      <th>target_consecutive_1</th>\n",
       "    </tr>\n",
       "  </thead>\n",
       "  <tbody>\n",
       "    <tr>\n",
       "      <th>2017-07-24</th>\n",
       "      <td>0</td>\n",
       "      <td>0</td>\n",
       "    </tr>\n",
       "    <tr>\n",
       "      <th>2017-07-25</th>\n",
       "      <td>0</td>\n",
       "      <td>1</td>\n",
       "    </tr>\n",
       "    <tr>\n",
       "      <th>2017-07-26</th>\n",
       "      <td>0</td>\n",
       "      <td>2</td>\n",
       "    </tr>\n",
       "    <tr>\n",
       "      <th>2017-07-27</th>\n",
       "      <td>0</td>\n",
       "      <td>3</td>\n",
       "    </tr>\n",
       "    <tr>\n",
       "      <th>2017-07-28</th>\n",
       "      <td>0</td>\n",
       "      <td>4</td>\n",
       "    </tr>\n",
       "  </tbody>\n",
       "</table>\n",
       "</div>"
      ],
      "text/plain": [
       "            target_consecutive_0  target_consecutive_1\n",
       "2017-07-24                     0                     0\n",
       "2017-07-25                     0                     1\n",
       "2017-07-26                     0                     2\n",
       "2017-07-27                     0                     3\n",
       "2017-07-28                     0                     4"
      ]
     },
     "execution_count": 19,
     "metadata": {},
     "output_type": "execute_result"
    }
   ],
   "source": [
    "consecutive(data, 'target').head()"
   ]
  },
  {
   "cell_type": "code",
   "execution_count": 20,
   "metadata": {},
   "outputs": [],
   "source": [
    "#Для удобства работы, таргет последняя колонка\n",
    "def target_to_end(data, target):\n",
    "    col_target = data[target]\n",
    "    data.drop(target, axis = 1, inplace=True)\n",
    "    data[target] = col_target\n",
    "    return data"
   ]
  },
  {
   "cell_type": "markdown",
   "metadata": {},
   "source": [
    "Теперь переменные стоит отмаштобировать"
   ]
  },
  {
   "cell_type": "code",
   "execution_count": 21,
   "metadata": {},
   "outputs": [],
   "source": [
    "#на вход подается данные и список столбцов, которые надо отмаштобировать\n",
    "def scaling_for_DataFrame(X_train, X_test, columns_to_scaling):\n",
    "    from sklearn.preprocessing import StandardScaler\n",
    "    scaler = StandardScaler()\n",
    "    scaler.fit(X_train[columns_to_scaling])\n",
    "    \n",
    "    X_train_1 = scaler.transform(X_train[columns_to_scaling])\n",
    "    X_test_1 = scaler.transform( X_test[columns_to_scaling])\n",
    "    \n",
    "    X_train_1 = np.array(X_train_1)\n",
    "    X_test_1 = np.array(X_test_1)\n",
    "    \n",
    "    X_train_1 = X_train_1.transpose()\n",
    "    X_test_1 = X_test_1.transpose()\n",
    "    \n",
    "    for i in range(len(X_train_1)):\n",
    "        X_train[columns_to_scaling[i]] = X_train_1[i]\n",
    "        X_test[columns_to_scaling[i]] = X_test_1[i]\n",
    "    return X_train, X_test"
   ]
  },
  {
   "cell_type": "markdown",
   "metadata": {},
   "source": [
    "_____________"
   ]
  },
  {
   "cell_type": "markdown",
   "metadata": {},
   "source": [
    "### Кодирование Средним"
   ]
  },
  {
   "cell_type": "code",
   "execution_count": 22,
   "metadata": {},
   "outputs": [
    {
     "data": {
      "text/html": [
       "<div>\n",
       "<style scoped>\n",
       "    .dataframe tbody tr th:only-of-type {\n",
       "        vertical-align: middle;\n",
       "    }\n",
       "\n",
       "    .dataframe tbody tr th {\n",
       "        vertical-align: top;\n",
       "    }\n",
       "\n",
       "    .dataframe thead th {\n",
       "        text-align: right;\n",
       "    }\n",
       "</style>\n",
       "<table border=\"1\" class=\"dataframe\">\n",
       "  <thead>\n",
       "    <tr style=\"text-align: right;\">\n",
       "      <th></th>\n",
       "      <th>OPEN</th>\n",
       "      <th>HIGH</th>\n",
       "      <th>LOW</th>\n",
       "      <th>CLOSE</th>\n",
       "      <th>WAP</th>\n",
       "      <th>VALUE</th>\n",
       "      <th>NUMTRADES</th>\n",
       "      <th>MONTH</th>\n",
       "      <th>target</th>\n",
       "    </tr>\n",
       "    <tr>\n",
       "      <th>DAY</th>\n",
       "      <th></th>\n",
       "      <th></th>\n",
       "      <th></th>\n",
       "      <th></th>\n",
       "      <th></th>\n",
       "      <th></th>\n",
       "      <th></th>\n",
       "      <th></th>\n",
       "      <th></th>\n",
       "    </tr>\n",
       "  </thead>\n",
       "  <tbody>\n",
       "    <tr>\n",
       "      <th>1</th>\n",
       "      <td>8.152414</td>\n",
       "      <td>8.311034</td>\n",
       "      <td>7.679655</td>\n",
       "      <td>7.761724</td>\n",
       "      <td>8.087931</td>\n",
       "      <td>2.862664e+10</td>\n",
       "      <td>128.724138</td>\n",
       "      <td>7.724138</td>\n",
       "      <td>0.551724</td>\n",
       "    </tr>\n",
       "    <tr>\n",
       "      <th>2</th>\n",
       "      <td>8.140333</td>\n",
       "      <td>8.251667</td>\n",
       "      <td>7.503667</td>\n",
       "      <td>7.589667</td>\n",
       "      <td>8.081000</td>\n",
       "      <td>2.901237e+10</td>\n",
       "      <td>133.333333</td>\n",
       "      <td>7.866667</td>\n",
       "      <td>0.566667</td>\n",
       "    </tr>\n",
       "    <tr>\n",
       "      <th>3</th>\n",
       "      <td>8.112258</td>\n",
       "      <td>8.240645</td>\n",
       "      <td>7.449677</td>\n",
       "      <td>7.682903</td>\n",
       "      <td>8.020968</td>\n",
       "      <td>3.092647e+10</td>\n",
       "      <td>140.580645</td>\n",
       "      <td>7.677419</td>\n",
       "      <td>0.419355</td>\n",
       "    </tr>\n",
       "    <tr>\n",
       "      <th>4</th>\n",
       "      <td>8.106667</td>\n",
       "      <td>8.302333</td>\n",
       "      <td>7.752000</td>\n",
       "      <td>7.848667</td>\n",
       "      <td>8.085333</td>\n",
       "      <td>2.815941e+10</td>\n",
       "      <td>136.200000</td>\n",
       "      <td>7.600000</td>\n",
       "      <td>0.666667</td>\n",
       "    </tr>\n",
       "    <tr>\n",
       "      <th>5</th>\n",
       "      <td>7.902759</td>\n",
       "      <td>7.978966</td>\n",
       "      <td>7.376897</td>\n",
       "      <td>7.471379</td>\n",
       "      <td>7.803793</td>\n",
       "      <td>2.540323e+10</td>\n",
       "      <td>122.344828</td>\n",
       "      <td>7.862069</td>\n",
       "      <td>0.344828</td>\n",
       "    </tr>\n",
       "  </tbody>\n",
       "</table>\n",
       "</div>"
      ],
      "text/plain": [
       "         OPEN      HIGH       LOW     CLOSE       WAP         VALUE  \\\n",
       "DAY                                                                   \n",
       "1    8.152414  8.311034  7.679655  7.761724  8.087931  2.862664e+10   \n",
       "2    8.140333  8.251667  7.503667  7.589667  8.081000  2.901237e+10   \n",
       "3    8.112258  8.240645  7.449677  7.682903  8.020968  3.092647e+10   \n",
       "4    8.106667  8.302333  7.752000  7.848667  8.085333  2.815941e+10   \n",
       "5    7.902759  7.978966  7.376897  7.471379  7.803793  2.540323e+10   \n",
       "\n",
       "      NUMTRADES     MONTH    target  \n",
       "DAY                                  \n",
       "1    128.724138  7.724138  0.551724  \n",
       "2    133.333333  7.866667  0.566667  \n",
       "3    140.580645  7.677419  0.419355  \n",
       "4    136.200000  7.600000  0.666667  \n",
       "5    122.344828  7.862069  0.344828  "
      ]
     },
     "execution_count": 22,
     "metadata": {},
     "output_type": "execute_result"
    }
   ],
   "source": [
    "#Рассмотрим распределение по дням\n",
    "data.groupby('DAY').mean()"
   ]
  },
  {
   "cell_type": "code",
   "execution_count": 23,
   "metadata": {},
   "outputs": [],
   "source": [
    "def silly_target_encoding(data, feature, target):\n",
    "    import pandas as pd\n",
    "    mean_target = data.groupby(feature).mean()[target]\n",
    "    mean_encoding = []\n",
    "    for i in data[feature]:\n",
    "        mean_encoding.append(mean_target[i])\n",
    "    DataFrame = pd.DataFrame()\n",
    "    DataFrame[feature + '_silly_target_encoding' ] = mean_encoding## в data.DAY почему-то 149 записей??\n",
    "    DataFrame.index = data.index\n",
    "    return DataFrame"
   ]
  },
  {
   "cell_type": "code",
   "execution_count": 24,
   "metadata": {},
   "outputs": [],
   "source": [
    "def time_series_target_encoding(data, feature, target, alfa):\n",
    "    def mean_reg_encoding(global_mean, mean, count, alfa):\n",
    "        return (mean*count + global_mean*alfa)/(count+alfa)\n",
    "    \n",
    "    \n",
    "    import pandas as pd\n",
    "    global_mean = len(data[data.target == 1]) / len(data)\n",
    "    target_encoding = []\n",
    "    for i in range(len(data)):\n",
    "        try:\n",
    "            feature_value = data[feature][i]\n",
    "            mean = data[:i].groupby(feature).mean()[target][feature_value]\n",
    "            count = data[:i].groupby(feature).count()[target][feature_value]\n",
    "            mean_reg = mean_reg_encoding(global_mean = global_mean, mean= mean, count=count, alfa= alfa)\n",
    "            target_encoding.append(mean_reg)\n",
    "        except:\n",
    "            mean = global_mean\n",
    "            target_encoding.append(mean)\n",
    "    DataFrame = pd.DataFrame()\n",
    "    DataFrame[feature + '_target_encoding' ] = target_encoding\n",
    "    DataFrame.index = data.index\n",
    "    return DataFrame"
   ]
  },
  {
   "cell_type": "markdown",
   "metadata": {},
   "source": [
    "### Дополнительные данные"
   ]
  },
  {
   "cell_type": "markdown",
   "metadata": {},
   "source": [
    "### НЕФТЬ"
   ]
  },
  {
   "cell_type": "code",
   "execution_count": 25,
   "metadata": {},
   "outputs": [],
   "source": [
    "def neft_DataFrame(data):\n",
    "    neft = pd.read_csv('neft-wti_quotes.csv', sep=';')\n",
    "    neft = neft[::-1]# переворачиваем\n",
    "    neft.index = neft.updated # индекс - время\n",
    "    neft = neft[str(data.index[0]):str(data.index[-1])].average\n",
    "    neft_price = []\n",
    "    for i in range(len(neft)):\n",
    "        if neft.index[i] in data.index:\n",
    "            neft_price.append(neft[i])\n",
    "    data['petroleum_prise'] = neft_price\n",
    "    return data"
   ]
  },
  {
   "cell_type": "code",
   "execution_count": 26,
   "metadata": {},
   "outputs": [
    {
     "data": {
      "text/html": [
       "<div>\n",
       "<style scoped>\n",
       "    .dataframe tbody tr th:only-of-type {\n",
       "        vertical-align: middle;\n",
       "    }\n",
       "\n",
       "    .dataframe tbody tr th {\n",
       "        vertical-align: top;\n",
       "    }\n",
       "\n",
       "    .dataframe thead th {\n",
       "        text-align: right;\n",
       "    }\n",
       "</style>\n",
       "<table border=\"1\" class=\"dataframe\">\n",
       "  <thead>\n",
       "    <tr style=\"text-align: right;\">\n",
       "      <th></th>\n",
       "      <th>OPEN</th>\n",
       "      <th>HIGH</th>\n",
       "      <th>LOW</th>\n",
       "      <th>CLOSE</th>\n",
       "      <th>WAP</th>\n",
       "      <th>LTTIME</th>\n",
       "      <th>VALUE</th>\n",
       "      <th>NUMTRADES</th>\n",
       "      <th>DAY</th>\n",
       "      <th>MONTH</th>\n",
       "      <th>target</th>\n",
       "      <th>petroleum_prise</th>\n",
       "    </tr>\n",
       "  </thead>\n",
       "  <tbody>\n",
       "    <tr>\n",
       "      <th>2017-07-24</th>\n",
       "      <td>9.11</td>\n",
       "      <td>9.15</td>\n",
       "      <td>8.50</td>\n",
       "      <td>8.55</td>\n",
       "      <td>8.97</td>\n",
       "      <td>NaN</td>\n",
       "      <td>2325011000</td>\n",
       "      <td>37</td>\n",
       "      <td>1</td>\n",
       "      <td>7</td>\n",
       "      <td>1</td>\n",
       "      <td>46.050</td>\n",
       "    </tr>\n",
       "    <tr>\n",
       "      <th>2017-07-25</th>\n",
       "      <td>9.09</td>\n",
       "      <td>9.10</td>\n",
       "      <td>8.81</td>\n",
       "      <td>8.81</td>\n",
       "      <td>9.02</td>\n",
       "      <td>NaN</td>\n",
       "      <td>3477388000</td>\n",
       "      <td>31</td>\n",
       "      <td>2</td>\n",
       "      <td>7</td>\n",
       "      <td>1</td>\n",
       "      <td>47.565</td>\n",
       "    </tr>\n",
       "    <tr>\n",
       "      <th>2017-07-26</th>\n",
       "      <td>9.06</td>\n",
       "      <td>9.35</td>\n",
       "      <td>9.05</td>\n",
       "      <td>9.10</td>\n",
       "      <td>9.15</td>\n",
       "      <td>NaN</td>\n",
       "      <td>6537394000</td>\n",
       "      <td>36</td>\n",
       "      <td>3</td>\n",
       "      <td>7</td>\n",
       "      <td>1</td>\n",
       "      <td>48.365</td>\n",
       "    </tr>\n",
       "    <tr>\n",
       "      <th>2017-07-27</th>\n",
       "      <td>9.17</td>\n",
       "      <td>9.40</td>\n",
       "      <td>9.17</td>\n",
       "      <td>9.25</td>\n",
       "      <td>9.30</td>\n",
       "      <td>NaN</td>\n",
       "      <td>3387899000</td>\n",
       "      <td>26</td>\n",
       "      <td>4</td>\n",
       "      <td>7</td>\n",
       "      <td>1</td>\n",
       "      <td>48.745</td>\n",
       "    </tr>\n",
       "    <tr>\n",
       "      <th>2017-07-28</th>\n",
       "      <td>9.31</td>\n",
       "      <td>9.32</td>\n",
       "      <td>9.20</td>\n",
       "      <td>9.20</td>\n",
       "      <td>9.26</td>\n",
       "      <td>NaN</td>\n",
       "      <td>4659405000</td>\n",
       "      <td>31</td>\n",
       "      <td>5</td>\n",
       "      <td>7</td>\n",
       "      <td>0</td>\n",
       "      <td>49.345</td>\n",
       "    </tr>\n",
       "  </tbody>\n",
       "</table>\n",
       "</div>"
      ],
      "text/plain": [
       "            OPEN  HIGH   LOW  CLOSE   WAP LTTIME       VALUE  NUMTRADES  DAY  \\\n",
       "2017-07-24  9.11  9.15  8.50   8.55  8.97    NaN  2325011000         37    1   \n",
       "2017-07-25  9.09  9.10  8.81   8.81  9.02    NaN  3477388000         31    2   \n",
       "2017-07-26  9.06  9.35  9.05   9.10  9.15    NaN  6537394000         36    3   \n",
       "2017-07-27  9.17  9.40  9.17   9.25  9.30    NaN  3387899000         26    4   \n",
       "2017-07-28  9.31  9.32  9.20   9.20  9.26    NaN  4659405000         31    5   \n",
       "\n",
       "            MONTH  target  petroleum_prise  \n",
       "2017-07-24      7       1           46.050  \n",
       "2017-07-25      7       1           47.565  \n",
       "2017-07-26      7       1           48.365  \n",
       "2017-07-27      7       1           48.745  \n",
       "2017-07-28      7       0           49.345  "
      ]
     },
     "execution_count": 26,
     "metadata": {},
     "output_type": "execute_result"
    }
   ],
   "source": [
    "data = neft_DataFrame(data)\n",
    "data.head()"
   ]
  },
  {
   "cell_type": "markdown",
   "metadata": {},
   "source": [
    "### Валютный курс"
   ]
  },
  {
   "cell_type": "code",
   "execution_count": 27,
   "metadata": {},
   "outputs": [],
   "source": [
    "def exchange_rate_DataFrame (data):\n",
    "    exchange_rate_eur = pd.read_csv('EURRUB.csv')\n",
    "    exchange_rate_usd = pd.read_csv('USDRUB.csv')\n",
    "    #Преобразовать дату\n",
    "    from datetime import datetime, date, time\n",
    "    date = []\n",
    "    k = 0\n",
    "    for i in exchange_rate_eur['<DATE>']:\n",
    "        d = datetime.strptime(i,'%d/%m/%y')\n",
    "        date.append(d)\n",
    "        k = k + 1\n",
    "    exchange_rate_eur.index = date\n",
    "    exchange_rate_eur = exchange_rate_eur['<CLOSE>']\n",
    "    exchange_rate_column = []\n",
    "    for i in range(len(exchange_rate_eur)):\n",
    "        if exchange_rate_eur.index[i] in data.index:\n",
    "            exchange_rate_column.append(exchange_rate_eur[i])\n",
    "    data['exchange_rate_eur'] = exchange_rate_column\n",
    "\n",
    "    date = []\n",
    "    for i in exchange_rate_usd['<DATE>']:\n",
    "        d = datetime.strptime(i,'%d/%m/%y')\n",
    "        date.append(d)\n",
    "        k = k + 1\n",
    "    exchange_rate_usd.index = date\n",
    "    exchange_rate_usd = exchange_rate_usd['<CLOSE>']\n",
    "    exchange_rate_column = []\n",
    "    for i in range(len(exchange_rate_usd)):\n",
    "        if exchange_rate_usd.index[i] in data.index:\n",
    "            exchange_rate_column.append(exchange_rate_usd[i])\n",
    "    data['exchange_rate_usr'] = exchange_rate_column\n",
    "\n",
    "    return data"
   ]
  },
  {
   "cell_type": "code",
   "execution_count": 28,
   "metadata": {},
   "outputs": [],
   "source": [
    "data = exchange_rate_DataFrame(data)"
   ]
  },
  {
   "cell_type": "markdown",
   "metadata": {},
   "source": [
    "#### Финансовые индексы"
   ]
  },
  {
   "cell_type": "code",
   "execution_count": 29,
   "metadata": {},
   "outputs": [],
   "source": [
    "def financial_indices(data, name, name_to_DataFrame):\n",
    "    index_1 = pd.read_csv(name)\n",
    "    from datetime import datetime, date, time\n",
    "    date = []\n",
    "    k = 0\n",
    "    for i in index_1['TRADEDATE']:\n",
    "        d = datetime.strptime(i,'%Y-%m-%d')\n",
    "        date.append(d)\n",
    "        k = k + 1\n",
    "    index_1.index = date\n",
    "    index_1 = index_1['CLOSE']\n",
    "    exchange_rate_column = []\n",
    "    for i in range(len(index_1)):\n",
    "        if index_1.index[i] in data.index:\n",
    "            exchange_rate_column.append(index_1[i])\n",
    "    data[name_to_DataFrame] = exchange_rate_column\n",
    "    return data"
   ]
  },
  {
   "cell_type": "code",
   "execution_count": 30,
   "metadata": {},
   "outputs": [],
   "source": [
    "data = financial_indices(data, 'MICEX_REPO_ACTS.csv', 'MICEX_REPO_ACTS')"
   ]
  },
  {
   "cell_type": "code",
   "execution_count": 31,
   "metadata": {},
   "outputs": [],
   "source": [
    "data = financial_indices(data, 'MICEX_REPO_region.csv', 'MICEX_REPO_region')"
   ]
  },
  {
   "cell_type": "code",
   "execution_count": 32,
   "metadata": {},
   "outputs": [],
   "source": [
    "data = financial_indices(data, 'Moscow Stock Exchange Finance Index.csv', 'Moscow_Stock_Exchange_Finance_Index')"
   ]
  },
  {
   "cell_type": "code",
   "execution_count": 33,
   "metadata": {},
   "outputs": [],
   "source": [
    "data = financial_indices(data,'Index of the Moscow Stock Exchange.csv', 'Index_of_the_Moscow_Stock_Exchange')"
   ]
  },
  {
   "cell_type": "code",
   "execution_count": 34,
   "metadata": {},
   "outputs": [],
   "source": [
    "data = financial_indices(data, 'MOEXREPO.csv', 'MOEXREPO')"
   ]
  },
  {
   "cell_type": "code",
   "execution_count": 35,
   "metadata": {},
   "outputs": [
    {
     "data": {
      "text/html": [
       "<div>\n",
       "<style scoped>\n",
       "    .dataframe tbody tr th:only-of-type {\n",
       "        vertical-align: middle;\n",
       "    }\n",
       "\n",
       "    .dataframe tbody tr th {\n",
       "        vertical-align: top;\n",
       "    }\n",
       "\n",
       "    .dataframe thead th {\n",
       "        text-align: right;\n",
       "    }\n",
       "</style>\n",
       "<table border=\"1\" class=\"dataframe\">\n",
       "  <thead>\n",
       "    <tr style=\"text-align: right;\">\n",
       "      <th></th>\n",
       "      <th>OPEN</th>\n",
       "      <th>HIGH</th>\n",
       "      <th>LOW</th>\n",
       "      <th>CLOSE</th>\n",
       "      <th>WAP</th>\n",
       "      <th>LTTIME</th>\n",
       "      <th>VALUE</th>\n",
       "      <th>NUMTRADES</th>\n",
       "      <th>DAY</th>\n",
       "      <th>MONTH</th>\n",
       "      <th>target</th>\n",
       "      <th>petroleum_prise</th>\n",
       "      <th>exchange_rate_eur</th>\n",
       "      <th>exchange_rate_usr</th>\n",
       "      <th>MICEX_REPO_ACTS</th>\n",
       "      <th>MICEX_REPO_region</th>\n",
       "      <th>Moscow_Stock_Exchange_Finance_Index</th>\n",
       "      <th>Index_of_the_Moscow_Stock_Exchange</th>\n",
       "      <th>MOEXREPO</th>\n",
       "      <th>MOEXREPO_USD</th>\n",
       "    </tr>\n",
       "  </thead>\n",
       "  <tbody>\n",
       "    <tr>\n",
       "      <th>2017-07-24</th>\n",
       "      <td>9.11</td>\n",
       "      <td>9.15</td>\n",
       "      <td>8.50</td>\n",
       "      <td>8.55</td>\n",
       "      <td>8.97</td>\n",
       "      <td>NaN</td>\n",
       "      <td>2325011000</td>\n",
       "      <td>37</td>\n",
       "      <td>1</td>\n",
       "      <td>7</td>\n",
       "      <td>1</td>\n",
       "      <td>46.050</td>\n",
       "      <td>69.7390</td>\n",
       "      <td>59.9790</td>\n",
       "      <td>9.09</td>\n",
       "      <td>9.18</td>\n",
       "      <td>6986.71</td>\n",
       "      <td>1931.75</td>\n",
       "      <td>9.09</td>\n",
       "      <td>1.55</td>\n",
       "    </tr>\n",
       "    <tr>\n",
       "      <th>2017-07-25</th>\n",
       "      <td>9.09</td>\n",
       "      <td>9.10</td>\n",
       "      <td>8.81</td>\n",
       "      <td>8.81</td>\n",
       "      <td>9.02</td>\n",
       "      <td>NaN</td>\n",
       "      <td>3477388000</td>\n",
       "      <td>31</td>\n",
       "      <td>2</td>\n",
       "      <td>7</td>\n",
       "      <td>1</td>\n",
       "      <td>47.565</td>\n",
       "      <td>69.6750</td>\n",
       "      <td>59.8477</td>\n",
       "      <td>9.09</td>\n",
       "      <td>9.16</td>\n",
       "      <td>6957.46</td>\n",
       "      <td>1923.73</td>\n",
       "      <td>9.06</td>\n",
       "      <td>1.53</td>\n",
       "    </tr>\n",
       "    <tr>\n",
       "      <th>2017-07-26</th>\n",
       "      <td>9.06</td>\n",
       "      <td>9.35</td>\n",
       "      <td>9.05</td>\n",
       "      <td>9.10</td>\n",
       "      <td>9.15</td>\n",
       "      <td>NaN</td>\n",
       "      <td>6537394000</td>\n",
       "      <td>36</td>\n",
       "      <td>3</td>\n",
       "      <td>7</td>\n",
       "      <td>1</td>\n",
       "      <td>48.365</td>\n",
       "      <td>69.6431</td>\n",
       "      <td>59.4129</td>\n",
       "      <td>9.13</td>\n",
       "      <td>9.19</td>\n",
       "      <td>6971.55</td>\n",
       "      <td>1933.10</td>\n",
       "      <td>8.95</td>\n",
       "      <td>1.51</td>\n",
       "    </tr>\n",
       "    <tr>\n",
       "      <th>2017-07-27</th>\n",
       "      <td>9.17</td>\n",
       "      <td>9.40</td>\n",
       "      <td>9.17</td>\n",
       "      <td>9.25</td>\n",
       "      <td>9.30</td>\n",
       "      <td>NaN</td>\n",
       "      <td>3387899000</td>\n",
       "      <td>26</td>\n",
       "      <td>4</td>\n",
       "      <td>7</td>\n",
       "      <td>1</td>\n",
       "      <td>48.745</td>\n",
       "      <td>69.3320</td>\n",
       "      <td>59.5292</td>\n",
       "      <td>9.23</td>\n",
       "      <td>9.29</td>\n",
       "      <td>7022.96</td>\n",
       "      <td>1945.12</td>\n",
       "      <td>9.14</td>\n",
       "      <td>1.52</td>\n",
       "    </tr>\n",
       "    <tr>\n",
       "      <th>2017-07-28</th>\n",
       "      <td>9.31</td>\n",
       "      <td>9.32</td>\n",
       "      <td>9.20</td>\n",
       "      <td>9.20</td>\n",
       "      <td>9.26</td>\n",
       "      <td>NaN</td>\n",
       "      <td>4659405000</td>\n",
       "      <td>31</td>\n",
       "      <td>5</td>\n",
       "      <td>7</td>\n",
       "      <td>0</td>\n",
       "      <td>49.345</td>\n",
       "      <td>69.8995</td>\n",
       "      <td>59.5133</td>\n",
       "      <td>9.31</td>\n",
       "      <td>9.30</td>\n",
       "      <td>6925.93</td>\n",
       "      <td>1916.75</td>\n",
       "      <td>9.15</td>\n",
       "      <td>1.51</td>\n",
       "    </tr>\n",
       "  </tbody>\n",
       "</table>\n",
       "</div>"
      ],
      "text/plain": [
       "            OPEN  HIGH   LOW  CLOSE   WAP LTTIME       VALUE  NUMTRADES  DAY  \\\n",
       "2017-07-24  9.11  9.15  8.50   8.55  8.97    NaN  2325011000         37    1   \n",
       "2017-07-25  9.09  9.10  8.81   8.81  9.02    NaN  3477388000         31    2   \n",
       "2017-07-26  9.06  9.35  9.05   9.10  9.15    NaN  6537394000         36    3   \n",
       "2017-07-27  9.17  9.40  9.17   9.25  9.30    NaN  3387899000         26    4   \n",
       "2017-07-28  9.31  9.32  9.20   9.20  9.26    NaN  4659405000         31    5   \n",
       "\n",
       "            MONTH  target  petroleum_prise  exchange_rate_eur  \\\n",
       "2017-07-24      7       1           46.050            69.7390   \n",
       "2017-07-25      7       1           47.565            69.6750   \n",
       "2017-07-26      7       1           48.365            69.6431   \n",
       "2017-07-27      7       1           48.745            69.3320   \n",
       "2017-07-28      7       0           49.345            69.8995   \n",
       "\n",
       "            exchange_rate_usr  MICEX_REPO_ACTS  MICEX_REPO_region  \\\n",
       "2017-07-24            59.9790             9.09               9.18   \n",
       "2017-07-25            59.8477             9.09               9.16   \n",
       "2017-07-26            59.4129             9.13               9.19   \n",
       "2017-07-27            59.5292             9.23               9.29   \n",
       "2017-07-28            59.5133             9.31               9.30   \n",
       "\n",
       "            Moscow_Stock_Exchange_Finance_Index  \\\n",
       "2017-07-24                              6986.71   \n",
       "2017-07-25                              6957.46   \n",
       "2017-07-26                              6971.55   \n",
       "2017-07-27                              7022.96   \n",
       "2017-07-28                              6925.93   \n",
       "\n",
       "            Index_of_the_Moscow_Stock_Exchange  MOEXREPO  MOEXREPO_USD  \n",
       "2017-07-24                             1931.75      9.09          1.55  \n",
       "2017-07-25                             1923.73      9.06          1.53  \n",
       "2017-07-26                             1933.10      8.95          1.51  \n",
       "2017-07-27                             1945.12      9.14          1.52  \n",
       "2017-07-28                             1916.75      9.15          1.51  "
      ]
     },
     "execution_count": 35,
     "metadata": {},
     "output_type": "execute_result"
    }
   ],
   "source": [
    "data = financial_indices(data,'MOEXREPO USD.csv','MOEXREPO_USD')\n",
    "data.head()"
   ]
  },
  {
   "cell_type": "markdown",
   "metadata": {},
   "source": [
    "### ИНДИКАТОРЫ"
   ]
  },
  {
   "cell_type": "code",
   "execution_count": 36,
   "metadata": {},
   "outputs": [],
   "source": [
    "def accumulation_distribution(data):\n",
    "    AD = 0\n",
    "    list_of_AD = []\n",
    "    for i in range(149):\n",
    "        CLV = (((data['CLOSE'][i] - data['LOW'][i]) - (data['HIGH'][i] - data['CLOSE'][i])) * data['VALUE'][i]) / (data['HIGH'][i] - data['LOW'][i])\n",
    "        AD += CLV\n",
    "        list_of_AD.append(AD)\n",
    "    df_AD = pd.DataFrame(list_of_AD)\n",
    "    df_AD.columns = ['accumulation_distribution']\n",
    "    df_AD.index = data.index\n",
    "    return df_AD"
   ]
  },
  {
   "cell_type": "code",
   "execution_count": 37,
   "metadata": {},
   "outputs": [],
   "source": [
    "def Bollinger_Bands(data, lag):\n",
    "    n = 149\n",
    "    moving_average = moving_average_DataFrame(data, [['WAP', lag]])\n",
    "    k = 2 / (n - 1) ##n - количество периодов\n",
    "    upper_band = moving_average + k * data['WAP'].std()\n",
    "    lower_band = moving_average - k * data['WAP'].std()\n",
    "    Bands_DF = pd.concat([upper_band, lower_band], axis=1)\n",
    "    Bands_DF.columns = ['WAP_Bollinger_Bands_upper_band', 'WAP_Bollinger_Bands_lower_band']\n",
    "    Bands_DF.index = data.index[-len(Bands_DF):]\n",
    "    return Bands_DF"
   ]
  },
  {
   "cell_type": "code",
   "execution_count": 38,
   "metadata": {},
   "outputs": [],
   "source": [
    "def mov_average_envelopes(data, lag):\n",
    "    moving_average = moving_average_DataFrame(data, [['WAP', lag]])\n",
    "    k = 2\n",
    "    n = 2\n",
    "    upper_band = moving_average + (k / 100) * moving_average\n",
    "    lower_band = moving_average - (n / 100) * moving_average\n",
    "    Envelopes_DF = pd.concat([upper_band, lower_band], axis=1)\n",
    "    Envelopes_DF.columns = ['WAP_mov_average_envelopes_upper_band', 'WAP_mov_average_envelopes_lower_band']\n",
    "    return Envelopes_DF"
   ]
  },
  {
   "cell_type": "code",
   "execution_count": 39,
   "metadata": {},
   "outputs": [],
   "source": [
    "def exponential_mov_average(data):\n",
    "    ema = data['WAP'][0]\n",
    "    alpha = 2 / (7 + 1)\n",
    "    list_of_ema = []\n",
    "    for i in range(1, len(data)-1):\n",
    "        ema = data['WAP'][i] * alpha + ema * (1 - alpha)\n",
    "        list_of_ema.append(ema)\n",
    "    df_ema = pd.DataFrame(list_of_ema)\n",
    "    df_ema.index = data.index[-len(df_ema):]\n",
    "    df_ema.columns = ['exponential_mov_average']\n",
    "    return df_ema"
   ]
  },
  {
   "cell_type": "code",
   "execution_count": 40,
   "metadata": {},
   "outputs": [
    {
     "name": "stderr",
     "output_type": "stream",
     "text": [
      "/home/vladimir/anaconda3/lib/python3.6/site-packages/ipykernel_launcher.py:5: RuntimeWarning: invalid value encountered in double_scalars\n",
      "  \"\"\"\n"
     ]
    }
   ],
   "source": [
    "data['accumulation_distribution'] = accumulation_distribution(data)"
   ]
  },
  {
   "cell_type": "markdown",
   "metadata": {},
   "source": [
    "____________________________"
   ]
  },
  {
   "cell_type": "markdown",
   "metadata": {},
   "source": [
    "# Создадим DataFrame, готовый к обучению"
   ]
  },
  {
   "cell_type": "markdown",
   "metadata": {},
   "source": [
    "### Выдернем нужные данные"
   ]
  },
  {
   "cell_type": "markdown",
   "metadata": {},
   "source": [
    "##### лаги"
   ]
  },
  {
   "cell_type": "code",
   "execution_count": 41,
   "metadata": {},
   "outputs": [
    {
     "data": {
      "text/plain": [
       "Index(['OPEN', 'HIGH', 'LOW', 'CLOSE', 'WAP', 'LTTIME', 'VALUE', 'NUMTRADES',\n",
       "       'DAY', 'MONTH', 'target', 'petroleum_prise', 'exchange_rate_eur',\n",
       "       'exchange_rate_usr', 'MICEX_REPO_ACTS', 'MICEX_REPO_region',\n",
       "       'Moscow_Stock_Exchange_Finance_Index',\n",
       "       'Index_of_the_Moscow_Stock_Exchange', 'MOEXREPO', 'MOEXREPO_USD',\n",
       "       'accumulation_distribution'],\n",
       "      dtype='object')"
      ]
     },
     "execution_count": 41,
     "metadata": {},
     "output_type": "execute_result"
    }
   ],
   "source": [
    "data.columns"
   ]
  },
  {
   "cell_type": "code",
   "execution_count": 42,
   "metadata": {},
   "outputs": [],
   "source": [
    "lags = [0,0,0,0,5,0,5,2,0,0,5,5,5,5,5,5,5,5,5,5,5]"
   ]
  },
  {
   "cell_type": "code",
   "execution_count": 43,
   "metadata": {},
   "outputs": [],
   "source": [
    "lag_data = time_series_to_DataFrame(data, lags, 'target')\n",
    "lag_data.drop('target', axis =  1, inplace= True)"
   ]
  },
  {
   "cell_type": "markdown",
   "metadata": {},
   "source": [
    "#### процентное изменение"
   ]
  },
  {
   "cell_type": "code",
   "execution_count": 44,
   "metadata": {},
   "outputs": [],
   "source": [
    "percent_change_data = percent_change_DataFrame(data, [['WAP',4], ['VALUE', 3],\n",
    "    ['petroleum_prise', 4],['exchange_rate_eur', 4], ['exchange_rate_usr',4],\n",
    "    ['MICEX_REPO_ACTS', 4], ['MICEX_REPO_region',4],['Moscow_Stock_Exchange_Finance_Index',4],\n",
    "    ['Index_of_the_Moscow_Stock_Exchange', 4],['MOEXREPO', 4], ['MOEXREPO_USD', 4], ['accumulation_distribution', 4] ], True)"
   ]
  },
  {
   "cell_type": "markdown",
   "metadata": {},
   "source": [
    "#### Скользящие среднее"
   ]
  },
  {
   "cell_type": "code",
   "execution_count": 45,
   "metadata": {},
   "outputs": [],
   "source": [
    "moving_average_data = moving_average_DataFrame(data,  [['WAP', 3], ['target', 6],\n",
    "    ['MICEX_REPO_ACTS', 4], ['MICEX_REPO_region', 4], ['MOEXREPO', 4]])"
   ]
  },
  {
   "cell_type": "markdown",
   "metadata": {},
   "source": [
    "#### скользящие среднее геометрическое"
   ]
  },
  {
   "cell_type": "code",
   "execution_count": 46,
   "metadata": {},
   "outputs": [],
   "source": [
    "moving_average_geom_data = moving_average_geom(data, 5, \"WAP\", True)"
   ]
  },
  {
   "cell_type": "markdown",
   "metadata": {},
   "source": [
    "### Количество подряд идущих нулей и единиц"
   ]
  },
  {
   "cell_type": "code",
   "execution_count": 47,
   "metadata": {},
   "outputs": [],
   "source": [
    "consecutive_data = consecutive(data,'target')"
   ]
  },
  {
   "cell_type": "markdown",
   "metadata": {},
   "source": [
    "#### target encoding"
   ]
  },
  {
   "cell_type": "code",
   "execution_count": 48,
   "metadata": {},
   "outputs": [],
   "source": [
    "target_encoding_data = time_series_target_encoding(data, 'DAY', 'target', alfa = 3)"
   ]
  },
  {
   "cell_type": "markdown",
   "metadata": {},
   "source": [
    "### индикаторы"
   ]
  },
  {
   "cell_type": "code",
   "execution_count": 49,
   "metadata": {},
   "outputs": [],
   "source": [
    "Bollinger_Bands_data = Bollinger_Bands(data, 4)\n",
    "mov_average_envelopes_data = mov_average_envelopes(data,  4)\n",
    "exponential_mov_average_data = exponential_mov_average(data)"
   ]
  },
  {
   "cell_type": "markdown",
   "metadata": {},
   "source": [
    "##### Выделим те , которые надо отмаштобировать"
   ]
  },
  {
   "cell_type": "code",
   "execution_count": 50,
   "metadata": {},
   "outputs": [],
   "source": [
    "columns_for_scaling = []# их надо будет отмаштобировать\n",
    "for i in lag_data.columns:\n",
    "    columns_for_scaling.append(i)\n",
    "for i in moving_average_data.columns:\n",
    "    columns_for_scaling.append(i)"
   ]
  },
  {
   "cell_type": "markdown",
   "metadata": {},
   "source": [
    "## Соединим все данные"
   ]
  },
  {
   "cell_type": "code",
   "execution_count": 51,
   "metadata": {},
   "outputs": [],
   "source": [
    "ready_data = data[['target', 'DAY']]\n",
    "list_of_DataFtame = [ready_data, lag_data, percent_change_data, moving_average_data,\n",
    "                     moving_average_geom_data,consecutive_data,target_encoding_data,\n",
    "                    Bollinger_Bands_data, mov_average_envelopes_data, exponential_mov_average_data]"
   ]
  },
  {
   "cell_type": "code",
   "execution_count": 52,
   "metadata": {},
   "outputs": [],
   "source": [
    "#соединяем DataFrame\n",
    "def concat_DataFrame(list_of_DataFtame, axis):\n",
    "    import pandas as pd\n",
    "    shape = []\n",
    "    for i in list_of_DataFtame:\n",
    "        shape.append(len(i))\n",
    "    shape = min(shape)\n",
    "    list_of_DataFtame = map(lambda x: x[-shape:], list_of_DataFtame)\n",
    "    ready_data = pd.concat(list_of_DataFtame, axis = axis)\n",
    "    return ready_data"
   ]
  },
  {
   "cell_type": "code",
   "execution_count": 53,
   "metadata": {},
   "outputs": [
    {
     "data": {
      "text/html": [
       "<div>\n",
       "<style scoped>\n",
       "    .dataframe tbody tr th:only-of-type {\n",
       "        vertical-align: middle;\n",
       "    }\n",
       "\n",
       "    .dataframe tbody tr th {\n",
       "        vertical-align: top;\n",
       "    }\n",
       "\n",
       "    .dataframe thead th {\n",
       "        text-align: right;\n",
       "    }\n",
       "</style>\n",
       "<table border=\"1\" class=\"dataframe\">\n",
       "  <thead>\n",
       "    <tr style=\"text-align: right;\">\n",
       "      <th></th>\n",
       "      <th>target</th>\n",
       "      <th>DAY</th>\n",
       "      <th>WAP_lag_1</th>\n",
       "      <th>WAP_lag_2</th>\n",
       "      <th>WAP_lag_3</th>\n",
       "      <th>WAP_lag_4</th>\n",
       "      <th>WAP_lag_5</th>\n",
       "      <th>VALUE_lag_1</th>\n",
       "      <th>VALUE_lag_2</th>\n",
       "      <th>VALUE_lag_3</th>\n",
       "      <th>...</th>\n",
       "      <th>MOEXREPO_averege_4</th>\n",
       "      <th>WAPaverage_geom5</th>\n",
       "      <th>target_consecutive_0</th>\n",
       "      <th>target_consecutive_1</th>\n",
       "      <th>DAY_target_encoding</th>\n",
       "      <th>WAP_Bollinger_Bands_upper_band</th>\n",
       "      <th>WAP_Bollinger_Bands_lower_band</th>\n",
       "      <th>WAP_mov_average_envelopes_upper_band</th>\n",
       "      <th>WAP_mov_average_envelopes_lower_band</th>\n",
       "      <th>exponential_mov_average</th>\n",
       "    </tr>\n",
       "  </thead>\n",
       "  <tbody>\n",
       "    <tr>\n",
       "      <th>2017-08-01</th>\n",
       "      <td>0</td>\n",
       "      <td>2</td>\n",
       "      <td>9.21</td>\n",
       "      <td>9.26</td>\n",
       "      <td>9.30</td>\n",
       "      <td>9.15</td>\n",
       "      <td>9.02</td>\n",
       "      <td>5181650000</td>\n",
       "      <td>4659405000</td>\n",
       "      <td>3387899000</td>\n",
       "      <td>...</td>\n",
       "      <td>9.1075</td>\n",
       "      <td>0.529480</td>\n",
       "      <td>2</td>\n",
       "      <td>0</td>\n",
       "      <td>0.63255</td>\n",
       "      <td>9.242029</td>\n",
       "      <td>9.217971</td>\n",
       "      <td>9.41460</td>\n",
       "      <td>9.04540</td>\n",
       "      <td>9.153721</td>\n",
       "    </tr>\n",
       "    <tr>\n",
       "      <th>2017-08-02</th>\n",
       "      <td>0</td>\n",
       "      <td>3</td>\n",
       "      <td>9.19</td>\n",
       "      <td>9.21</td>\n",
       "      <td>9.26</td>\n",
       "      <td>9.30</td>\n",
       "      <td>9.15</td>\n",
       "      <td>4002500000</td>\n",
       "      <td>5181650000</td>\n",
       "      <td>4659405000</td>\n",
       "      <td>...</td>\n",
       "      <td>9.1775</td>\n",
       "      <td>0.374130</td>\n",
       "      <td>3</td>\n",
       "      <td>0</td>\n",
       "      <td>0.63255</td>\n",
       "      <td>9.252029</td>\n",
       "      <td>9.227971</td>\n",
       "      <td>9.42480</td>\n",
       "      <td>9.05520</td>\n",
       "      <td>9.162791</td>\n",
       "    </tr>\n",
       "    <tr>\n",
       "      <th>2017-08-03</th>\n",
       "      <td>0</td>\n",
       "      <td>4</td>\n",
       "      <td>9.09</td>\n",
       "      <td>9.19</td>\n",
       "      <td>9.21</td>\n",
       "      <td>9.26</td>\n",
       "      <td>9.30</td>\n",
       "      <td>5745400000</td>\n",
       "      <td>4002500000</td>\n",
       "      <td>5181650000</td>\n",
       "      <td>...</td>\n",
       "      <td>9.1325</td>\n",
       "      <td>-0.131493</td>\n",
       "      <td>4</td>\n",
       "      <td>0</td>\n",
       "      <td>0.63255</td>\n",
       "      <td>9.199529</td>\n",
       "      <td>9.175471</td>\n",
       "      <td>9.37125</td>\n",
       "      <td>9.00375</td>\n",
       "      <td>9.144593</td>\n",
       "    </tr>\n",
       "    <tr>\n",
       "      <th>2017-08-04</th>\n",
       "      <td>0</td>\n",
       "      <td>5</td>\n",
       "      <td>8.98</td>\n",
       "      <td>9.09</td>\n",
       "      <td>9.19</td>\n",
       "      <td>9.21</td>\n",
       "      <td>9.26</td>\n",
       "      <td>5598335000</td>\n",
       "      <td>5745400000</td>\n",
       "      <td>4002500000</td>\n",
       "      <td>...</td>\n",
       "      <td>9.1125</td>\n",
       "      <td>-0.697844</td>\n",
       "      <td>5</td>\n",
       "      <td>0</td>\n",
       "      <td>0.38255</td>\n",
       "      <td>9.129529</td>\n",
       "      <td>9.105471</td>\n",
       "      <td>9.29985</td>\n",
       "      <td>8.93515</td>\n",
       "      <td>9.103445</td>\n",
       "    </tr>\n",
       "    <tr>\n",
       "      <th>2017-08-07</th>\n",
       "      <td>0</td>\n",
       "      <td>1</td>\n",
       "      <td>8.44</td>\n",
       "      <td>8.98</td>\n",
       "      <td>9.09</td>\n",
       "      <td>9.19</td>\n",
       "      <td>9.21</td>\n",
       "      <td>4233004060</td>\n",
       "      <td>5598335000</td>\n",
       "      <td>5745400000</td>\n",
       "      <td>...</td>\n",
       "      <td>9.0400</td>\n",
       "      <td>-1.837346</td>\n",
       "      <td>6</td>\n",
       "      <td>0</td>\n",
       "      <td>0.50604</td>\n",
       "      <td>8.937029</td>\n",
       "      <td>8.912971</td>\n",
       "      <td>9.10350</td>\n",
       "      <td>8.74650</td>\n",
       "      <td>8.937584</td>\n",
       "    </tr>\n",
       "  </tbody>\n",
       "</table>\n",
       "<p>5 rows × 130 columns</p>\n",
       "</div>"
      ],
      "text/plain": [
       "            target  DAY  WAP_lag_1  WAP_lag_2  WAP_lag_3  WAP_lag_4  \\\n",
       "2017-08-01       0    2       9.21       9.26       9.30       9.15   \n",
       "2017-08-02       0    3       9.19       9.21       9.26       9.30   \n",
       "2017-08-03       0    4       9.09       9.19       9.21       9.26   \n",
       "2017-08-04       0    5       8.98       9.09       9.19       9.21   \n",
       "2017-08-07       0    1       8.44       8.98       9.09       9.19   \n",
       "\n",
       "            WAP_lag_5  VALUE_lag_1  VALUE_lag_2  VALUE_lag_3  \\\n",
       "2017-08-01       9.02   5181650000   4659405000   3387899000   \n",
       "2017-08-02       9.15   4002500000   5181650000   4659405000   \n",
       "2017-08-03       9.30   5745400000   4002500000   5181650000   \n",
       "2017-08-04       9.26   5598335000   5745400000   4002500000   \n",
       "2017-08-07       9.21   4233004060   5598335000   5745400000   \n",
       "\n",
       "                     ...             MOEXREPO_averege_4  WAPaverage_geom5  \\\n",
       "2017-08-01           ...                         9.1075          0.529480   \n",
       "2017-08-02           ...                         9.1775          0.374130   \n",
       "2017-08-03           ...                         9.1325         -0.131493   \n",
       "2017-08-04           ...                         9.1125         -0.697844   \n",
       "2017-08-07           ...                         9.0400         -1.837346   \n",
       "\n",
       "            target_consecutive_0  target_consecutive_1  DAY_target_encoding  \\\n",
       "2017-08-01                     2                     0              0.63255   \n",
       "2017-08-02                     3                     0              0.63255   \n",
       "2017-08-03                     4                     0              0.63255   \n",
       "2017-08-04                     5                     0              0.38255   \n",
       "2017-08-07                     6                     0              0.50604   \n",
       "\n",
       "            WAP_Bollinger_Bands_upper_band  WAP_Bollinger_Bands_lower_band  \\\n",
       "2017-08-01                        9.242029                        9.217971   \n",
       "2017-08-02                        9.252029                        9.227971   \n",
       "2017-08-03                        9.199529                        9.175471   \n",
       "2017-08-04                        9.129529                        9.105471   \n",
       "2017-08-07                        8.937029                        8.912971   \n",
       "\n",
       "            WAP_mov_average_envelopes_upper_band  \\\n",
       "2017-08-01                               9.41460   \n",
       "2017-08-02                               9.42480   \n",
       "2017-08-03                               9.37125   \n",
       "2017-08-04                               9.29985   \n",
       "2017-08-07                               9.10350   \n",
       "\n",
       "            WAP_mov_average_envelopes_lower_band  exponential_mov_average  \n",
       "2017-08-01                               9.04540                 9.153721  \n",
       "2017-08-02                               9.05520                 9.162791  \n",
       "2017-08-03                               9.00375                 9.144593  \n",
       "2017-08-04                               8.93515                 9.103445  \n",
       "2017-08-07                               8.74650                 8.937584  \n",
       "\n",
       "[5 rows x 130 columns]"
      ]
     },
     "execution_count": 53,
     "metadata": {},
     "output_type": "execute_result"
    }
   ],
   "source": [
    "ready_data = concat_DataFrame(list_of_DataFtame, 1)\n",
    "ready_data.head()"
   ]
  },
  {
   "cell_type": "code",
   "execution_count": 54,
   "metadata": {},
   "outputs": [],
   "source": [
    "#Сохраним DataFrame\n",
    "ready_data.to_csv(\"final_data_to_AHAN.csv\")"
   ]
  },
  {
   "cell_type": "markdown",
   "metadata": {},
   "source": [
    "_________________________________-"
   ]
  },
  {
   "cell_type": "markdown",
   "metadata": {},
   "source": [
    "### Проверим на простой модели, предсказания на 1 шаг вперед"
   ]
  },
  {
   "cell_type": "code",
   "execution_count": 55,
   "metadata": {},
   "outputs": [],
   "source": [
    "def quality_control(model, data , target, columns_for_scaling , start_date= 120):\n",
    "    predict = []\n",
    "    for i in range(start_date, len(data)):\n",
    "        #делим на обучение и тест\n",
    "        X_train = data[:i]\n",
    "        Y_train = target[:i]\n",
    "        X_test = data[i:i+1]\n",
    "        Y_test = target[i]\n",
    "        X_train, X_test = scaling_for_DataFrame(X_train, X_test, columns_for_scaling)\n",
    "\n",
    "        model.fit(X_train, Y_train)\n",
    "        predict.append(model.predict(X_test))\n",
    "        print (i , 'Предсказание сделано')\n",
    "    print (len(predict))\n",
    "    print (len(target[start_date:]))\n",
    "    return  metrics.accuracy_score(target[start_date:], predict)"
   ]
  },
  {
   "cell_type": "code",
   "execution_count": 56,
   "metadata": {
    "scrolled": true
   },
   "outputs": [],
   "source": [
    "# %%time\n",
    "# warnings.filterwarnings('ignore')\n",
    "# from xgboost import XGBClassifier\n",
    "# XGB_model = XGBClassifier()\n",
    "# quality_control_for_1_lag = quality_control(XGB_model, ready_data[ready_data.columns[1:]],\n",
    "#                                             ready_data['target'],columns_for_scaling, start_date = 130)\n",
    "# warnings.filterwarnings('default')"
   ]
  }
 ],
 "metadata": {
  "kernelspec": {
   "display_name": "Python 3",
   "language": "python",
   "name": "python3"
  },
  "language_info": {
   "codemirror_mode": {
    "name": "ipython",
    "version": 3
   },
   "file_extension": ".py",
   "mimetype": "text/x-python",
   "name": "python",
   "nbconvert_exporter": "python",
   "pygments_lexer": "ipython3",
   "version": "3.6.4"
  }
 },
 "nbformat": 4,
 "nbformat_minor": 2
}
