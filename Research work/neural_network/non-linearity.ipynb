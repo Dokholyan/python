{
 "cells": [
  {
   "cell_type": "code",
   "execution_count": 1,
   "metadata": {},
   "outputs": [
    {
     "name": "stderr",
     "output_type": "stream",
     "text": [
      "/home/vladimir/anaconda3/lib/python3.6/site-packages/statsmodels/compat/pandas.py:56: FutureWarning: The pandas.core.datetools module is deprecated and will be removed in a future version. Please use the pandas.tseries module instead.\n",
      "  from pandas.core import datetools\n"
     ]
    },
    {
     "name": "stdout",
     "output_type": "stream",
     "text": [
      "Populating the interactive namespace from numpy and matplotlib\n"
     ]
    },
    {
     "name": "stderr",
     "output_type": "stream",
     "text": [
      "/home/vladimir/anaconda3/lib/python3.6/site-packages/IPython/core/magics/pylab.py:160: UserWarning: pylab import has clobbered these variables: ['product']\n",
      "`%matplotlib` prevents importing * from pylab and numpy\n",
      "  \"\\n`%matplotlib` prevents importing * from pylab and numpy\"\n"
     ]
    }
   ],
   "source": [
    "import pandas as pd\n",
    "import math as m\n",
    "from scipy import stats\n",
    "import numpy as np\n",
    "import statsmodels.api as sm\n",
    "import matplotlib.pyplot as plt\n",
    "from sklearn import  metrics\n",
    "from itertools import product\n",
    "%pylab inline"
   ]
  },
  {
   "cell_type": "code",
   "execution_count": 2,
   "metadata": {},
   "outputs": [
    {
     "name": "stderr",
     "output_type": "stream",
     "text": [
      "/home/vladimir/anaconda3/lib/python3.6/site-packages/h5py/__init__.py:36: FutureWarning: Conversion of the second argument of issubdtype from `float` to `np.floating` is deprecated. In future, it will be treated as `np.float64 == np.dtype(float).type`.\n",
      "  from ._conv import register_converters as _register_converters\n",
      "Using TensorFlow backend.\n"
     ]
    }
   ],
   "source": [
    "from keras.models import Sequential\n",
    "from keras.layers.core import Dense, Dropout, Activation, Flatten\n",
    "from keras.layers.normalization import BatchNormalization\n",
    "from keras.layers import Merge\n",
    "from keras.callbacks import ModelCheckpoint, ReduceLROnPlateau, CSVLogger, EarlyStopping\n",
    "from keras.optimizers import RMSprop, Adam, SGD, Nadam\n",
    "from keras.layers.advanced_activations import *\n",
    "from keras.layers import Convolution1D, MaxPooling1D, AtrousConvolution1D\n",
    "from keras.layers.recurrent import LSTM, GRU\n",
    "from keras import regularizers\n",
    "from keras.layers import LSTM, SpatialDropout1D\n",
    "import keras"
   ]
  },
  {
   "cell_type": "code",
   "execution_count": 3,
   "metadata": {},
   "outputs": [],
   "source": [
    "data = pd.read_csv(\"cleaned_unemployment.csv\", index_col=['Unnamed: 0'])\n",
    "GDP = pd.read_csv(\"cleaned_GDP.csv\", index_col=['Unnamed: 0'])\n",
    "data = pd.concat([data , GDP], axis = 1)\n",
    "np.random.seed(42)"
   ]
  },
  {
   "cell_type": "code",
   "execution_count": 4,
   "metadata": {},
   "outputs": [],
   "source": [
    "def time_series_to_DataFrame(data, lags, target):\n",
    "    lags = list(map(lambda x: x+1, lags))\n",
    "    #Готовим название колонок\n",
    "    columns = []\n",
    "    for i in range(len(data.columns)):\n",
    "        #print (i , lags[i])\n",
    "        for j in range(1, lags[i]):\n",
    "            #print ('i = ', i,'j = ',j)\n",
    "            #print (columns)\n",
    "            columns.append(data.columns[i] + '_lag_' + str(j))\n",
    "    columns.append(target)\n",
    "    #готовим target\n",
    "    target = pd.DataFrame(data[target].values[max(lags)-1:])\n",
    "    #готовим индексы\n",
    "    index = data.index\n",
    "    \n",
    "    \n",
    "    data = data.values\n",
    "    \n",
    "    new_data = []\n",
    "    for i in range(max(lags)-1,len(data)):\n",
    "        res = []\n",
    "        for lag in range(len(lags)):\n",
    "            for j in range(1,lags[lag]):\n",
    "                res.append(data[i-j][lag])\n",
    "        new_data.append(res)\n",
    "    \n",
    "    \n",
    "    new_data = pd.DataFrame(new_data)\n",
    "    new_data = pd.concat([new_data, target], axis = 1)\n",
    "    new_data.columns = columns\n",
    "    new_data.index = index[max(lags)-1:]\n",
    "    return new_data "
   ]
  },
  {
   "cell_type": "code",
   "execution_count": 5,
   "metadata": {},
   "outputs": [],
   "source": [
    "#лаги\n",
    "lags = [5,3]\n",
    "lag_data = time_series_to_DataFrame(data, lags, 'unemployment_cyclicity')\n",
    "\n",
    "x_train = lag_data[lag_data.columns[:-1]].iloc[:-20]\n",
    "x_val = lag_data[lag_data.columns[:-1]].iloc[-20:-12]\n",
    "x_test = lag_data[lag_data.columns[:-1]].iloc[-12:]\n",
    "\n",
    "y_train = lag_data[lag_data.columns[-1]].iloc[:-20]\n",
    "y_val = lag_data[lag_data.columns[-1]].iloc[-20:-12]\n",
    "y_test = lag_data[lag_data.columns[-1]].iloc[-12:]"
   ]
  },
  {
   "cell_type": "code",
   "execution_count": 6,
   "metadata": {},
   "outputs": [
    {
     "data": {
      "text/html": [
       "<div>\n",
       "<style scoped>\n",
       "    .dataframe tbody tr th:only-of-type {\n",
       "        vertical-align: middle;\n",
       "    }\n",
       "\n",
       "    .dataframe tbody tr th {\n",
       "        vertical-align: top;\n",
       "    }\n",
       "\n",
       "    .dataframe thead th {\n",
       "        text-align: right;\n",
       "    }\n",
       "</style>\n",
       "<table border=\"1\" class=\"dataframe\">\n",
       "  <thead>\n",
       "    <tr style=\"text-align: right;\">\n",
       "      <th></th>\n",
       "      <th>unemployment_cyclicity_lag_1</th>\n",
       "      <th>unemployment_cyclicity_lag_2</th>\n",
       "      <th>unemployment_cyclicity_lag_3</th>\n",
       "      <th>unemployment_cyclicity_lag_4</th>\n",
       "      <th>unemployment_cyclicity_lag_5</th>\n",
       "      <th>GDP_cyclicity_lag_1</th>\n",
       "      <th>GDP_cyclicity_lag_2</th>\n",
       "      <th>GDP_cyclicity_lag_3</th>\n",
       "    </tr>\n",
       "  </thead>\n",
       "  <tbody>\n",
       "    <tr>\n",
       "      <th>2014.25</th>\n",
       "      <td>-0.048167</td>\n",
       "      <td>-0.039545</td>\n",
       "      <td>-0.039611</td>\n",
       "      <td>-0.055057</td>\n",
       "      <td>-0.078589</td>\n",
       "      <td>0.017511</td>\n",
       "      <td>0.016362</td>\n",
       "      <td>0.016110</td>\n",
       "    </tr>\n",
       "    <tr>\n",
       "      <th>2014.50</th>\n",
       "      <td>-0.057857</td>\n",
       "      <td>-0.048167</td>\n",
       "      <td>-0.039545</td>\n",
       "      <td>-0.039611</td>\n",
       "      <td>-0.055057</td>\n",
       "      <td>0.017804</td>\n",
       "      <td>0.017511</td>\n",
       "      <td>0.016362</td>\n",
       "    </tr>\n",
       "    <tr>\n",
       "      <th>2014.75</th>\n",
       "      <td>-0.058753</td>\n",
       "      <td>-0.057857</td>\n",
       "      <td>-0.048167</td>\n",
       "      <td>-0.039545</td>\n",
       "      <td>-0.039611</td>\n",
       "      <td>0.014936</td>\n",
       "      <td>0.017804</td>\n",
       "      <td>0.017511</td>\n",
       "    </tr>\n",
       "    <tr>\n",
       "      <th>2015.00</th>\n",
       "      <td>-0.039524</td>\n",
       "      <td>-0.058753</td>\n",
       "      <td>-0.057857</td>\n",
       "      <td>-0.048167</td>\n",
       "      <td>-0.039545</td>\n",
       "      <td>0.007688</td>\n",
       "      <td>0.014936</td>\n",
       "      <td>0.017804</td>\n",
       "    </tr>\n",
       "    <tr>\n",
       "      <th>2015.25</th>\n",
       "      <td>-0.011284</td>\n",
       "      <td>-0.039524</td>\n",
       "      <td>-0.058753</td>\n",
       "      <td>-0.057857</td>\n",
       "      <td>-0.048167</td>\n",
       "      <td>-0.000313</td>\n",
       "      <td>0.007688</td>\n",
       "      <td>0.014936</td>\n",
       "    </tr>\n",
       "  </tbody>\n",
       "</table>\n",
       "</div>"
      ],
      "text/plain": [
       "         unemployment_cyclicity_lag_1  unemployment_cyclicity_lag_2  \\\n",
       "2014.25                     -0.048167                     -0.039545   \n",
       "2014.50                     -0.057857                     -0.048167   \n",
       "2014.75                     -0.058753                     -0.057857   \n",
       "2015.00                     -0.039524                     -0.058753   \n",
       "2015.25                     -0.011284                     -0.039524   \n",
       "\n",
       "         unemployment_cyclicity_lag_3  unemployment_cyclicity_lag_4  \\\n",
       "2014.25                     -0.039611                     -0.055057   \n",
       "2014.50                     -0.039545                     -0.039611   \n",
       "2014.75                     -0.048167                     -0.039545   \n",
       "2015.00                     -0.057857                     -0.048167   \n",
       "2015.25                     -0.058753                     -0.057857   \n",
       "\n",
       "         unemployment_cyclicity_lag_5  GDP_cyclicity_lag_1  \\\n",
       "2014.25                     -0.078589             0.017511   \n",
       "2014.50                     -0.055057             0.017804   \n",
       "2014.75                     -0.039611             0.014936   \n",
       "2015.00                     -0.039545             0.007688   \n",
       "2015.25                     -0.048167            -0.000313   \n",
       "\n",
       "         GDP_cyclicity_lag_2  GDP_cyclicity_lag_3  \n",
       "2014.25             0.016362             0.016110  \n",
       "2014.50             0.017511             0.016362  \n",
       "2014.75             0.017804             0.017511  \n",
       "2015.00             0.014936             0.017804  \n",
       "2015.25             0.007688             0.014936  "
      ]
     },
     "execution_count": 6,
     "metadata": {},
     "output_type": "execute_result"
    }
   ],
   "source": [
    "x_test.head()"
   ]
  },
  {
   "cell_type": "code",
   "execution_count": 7,
   "metadata": {},
   "outputs": [],
   "source": [
    "def load_weights(model,name_of_catalog, neurons_1, neurons_2):\n",
    "    for i in range(len(neurons_1)):\n",
    "        for j in range(len(neurons_2)):\n",
    "            from keras.models import model_from_json\n",
    "            #print(\"Загружаю сеть из файлов\")\n",
    "            # Загружаем сохраненные веса в модель\n",
    "            print (i, j)\n",
    "            model[i][j].load_weights(name_of_catalog+\"/weights_\"+str(neurons_1[i])+'_'+str(neurons_2[j])+\".hdf5\")\n",
    "    print(\"Загрузка сети завершена\")\n",
    "    return model"
   ]
  },
  {
   "cell_type": "code",
   "execution_count": 8,
   "metadata": {},
   "outputs": [
    {
     "name": "stdout",
     "output_type": "stream",
     "text": [
      "5 5\n",
      "5 6\n",
      "5 7\n",
      "5 8\n",
      "5 9\n",
      "6 5\n",
      "6 6\n",
      "6 7\n",
      "6 8\n",
      "6 9\n",
      "7 5\n",
      "7 6\n",
      "7 7\n",
      "7 8\n",
      "7 9\n",
      "8 5\n",
      "8 6\n",
      "8 7\n",
      "8 8\n",
      "8 9\n",
      "9 5\n",
      "9 6\n",
      "9 7\n",
      "9 8\n",
      "9 9\n",
      "CPU times: user 1.41 s, sys: 20 ms, total: 1.43 s\n",
      "Wall time: 1.64 s\n"
     ]
    }
   ],
   "source": [
    "%%time\n",
    "np.random.seed(42)\n",
    "neurons_1 = range(5, 10)\n",
    "neurons_2 = range(5, 10)\n",
    "epochs = 100\n",
    "\n",
    "model = []\n",
    "history = []\n",
    "for i in range(len(neurons_1)):\n",
    "    model.append([])\n",
    "    history.append([])\n",
    "    for j in range(len(neurons_2)):\n",
    "        print (neurons_1[i], neurons_2[j])\n",
    "        model[i].append(Sequential())\n",
    "        filepath=\"model/weights_\"+str(neurons_1[i])+'_'+str(neurons_2[j])+\".hdf5\"\n",
    "        checkpoint = ModelCheckpoint(filepath, monitor='val_loss', verbose=1, save_best_only=True)\n",
    "        model[i][j].add(Dense(neurons_1[i], activation='relu', input_shape=(x_train.shape[1],), ))\n",
    "        model[i][j].add(Dropout(0.05))\n",
    "        model[i][j].add(Dense(neurons_2[j], activation='relu', ))\n",
    "        model[i][j].add(Dense(1))\n",
    "        adam = Adam(lr=0.001, beta_1=0.9, beta_2=0.999, epsilon=None, decay=0.0, amsgrad=False)\n",
    "        model[i][j].compile(optimizer=adam, loss='mae', metrics=['mae'])\n",
    "        #history[i].append(model[i][j].fit(x_train, y_train, epochs=epochs, batch_size=1,\n",
    "        #                           verbose=2, validation_data=(x_val, y_val),callbacks = [checkpoint] ))\n",
    "        "
   ]
  },
  {
   "cell_type": "code",
   "execution_count": 9,
   "metadata": {},
   "outputs": [
    {
     "name": "stdout",
     "output_type": "stream",
     "text": [
      "0 0\n",
      "0 1\n",
      "0 2\n",
      "0 3\n",
      "0 4\n",
      "1 0\n",
      "1 1\n",
      "1 2\n",
      "1 3\n",
      "1 4\n",
      "2 0\n",
      "2 1\n",
      "2 2\n",
      "2 3\n",
      "2 4\n",
      "3 0\n",
      "3 1\n",
      "3 2\n",
      "3 3\n",
      "3 4\n",
      "4 0\n",
      "4 1\n",
      "4 2\n",
      "4 3\n",
      "4 4\n",
      "Загрузка сети завершена\n"
     ]
    }
   ],
   "source": [
    "load_model = load_weights(model,'model', neurons_1, neurons_2)"
   ]
  },
  {
   "cell_type": "code",
   "execution_count": 10,
   "metadata": {},
   "outputs": [],
   "source": [
    "def find_best_model(history,model, neurons_1 ,neurons_2, y_test, x_test ):\n",
    "    \n",
    "    if history != None:\n",
    "        ## Список качества\n",
    "        list_of_quality = []\n",
    "        for i in range(len(history)):\n",
    "            list_of_quality.append([])\n",
    "            for j in range(len(history[0])):\n",
    "                list_of_quality[i].append(history[i][j].history['val_mean_absolute_error'][-1])\n",
    "    \n",
    "        min_ = list_of_quality[0][0]\n",
    "        i_min = -1\n",
    "        j_min = -1\n",
    "        for i in range(len(list_of_quality)):\n",
    "            for j in range(len(list_of_quality[0])):\n",
    "                if list_of_quality[i][j] <= min_:\n",
    "                    min_ = list_of_quality[i][j]\n",
    "                    j_min = j\n",
    "                    i_min = i\n",
    "                \n",
    "        # История ошибок\n",
    "        plt.figure(figsize(10,5))\n",
    "        plt.plot(history[i_min][j_min].history['mean_absolute_error'])\n",
    "        plt.plot(history[i_min][j_min].history['val_mean_absolute_error'])\n",
    "        plt.title(\"error \" + str(neurons_1[i_min]) + \" and \" +str(neurons_2[j_min]))\n",
    "    else:\n",
    "        MAE = metrics.mean_absolute_error(y_test.values,model[0][0].predict(x_test))\n",
    "        i_min = j_min = 0\n",
    "        for i in range(len(model)):\n",
    "            for j in range(len(model[0])):\n",
    "                current_MAE = metrics.mean_absolute_error(y_test.values,model[i][j].predict(x_test))\n",
    "                if current_MAE <= MAE:\n",
    "                    MAE = current_MAE\n",
    "                    i_min = i\n",
    "                    j_min = j\n",
    "        \n",
    "    # предесказание\n",
    "    pred = model[i_min][j_min].predict(x_test)\n",
    "    plt.figure(figsize(10,5))\n",
    "    plt.plot(y_test.index, pred, color = 'r')\n",
    "    plt.plot(y_test.index, y_test.values)\n",
    "    #plt.title(\"prediction \" + str(neurons_1[i_min]) + \" and \" +str(neurons_2[j_min]))\n",
    "    \n",
    "    print ('Средняя ошибка = ', metrics.mean_absolute_error(y_test.values,pred))\n",
    "\n",
    "    return i_min, j_min"
   ]
  },
  {
   "cell_type": "code",
   "execution_count": 11,
   "metadata": {},
   "outputs": [
    {
     "name": "stdout",
     "output_type": "stream",
     "text": [
      "Средняя ошибка =  0.007829626882896937\n"
     ]
    },
    {
     "data": {
      "image/png": "[encoded data removed]",
      "text/plain": [
       "<matplotlib.figure.Figure at 0x7f6a00eaf160>"
      ]
     },
     "metadata": {},
     "output_type": "display_data"
    }
   ],
   "source": [
    "i_best_st, j_best_st = find_best_model(None,load_model, neurons_1 ,neurons_2, y_test, x_test )"
   ]
  },
  {
   "cell_type": "code",
   "execution_count": 12,
   "metadata": {},
   "outputs": [
    {
     "name": "stdout",
     "output_type": "stream",
     "text": [
      "Средняя ошибка =  0.008937878351217565\n"
     ]
    },
    {
     "data": {
      "image/png": "[encoded data removed]",
      "text/plain": [
       "<matplotlib.figure.Figure at 0x7f69f0058f98>"
      ]
     },
     "metadata": {},
     "output_type": "display_data"
    }
   ],
   "source": [
    "i_best, j_best = find_best_model(None,load_model, neurons_1 ,neurons_2, y_val, x_val )"
   ]
  },
  {
   "cell_type": "code",
   "execution_count": 13,
   "metadata": {},
   "outputs": [
    {
     "name": "stdout",
     "output_type": "stream",
     "text": [
      "0.008838154707972\n",
      "0.9083316930286479\n"
     ]
    },
    {
     "data": {
      "image/png": "[encoded data removed]",
      "text/plain": [
       "<matplotlib.figure.Figure at 0x7f6a0df28710>"
      ]
     },
     "metadata": {},
     "output_type": "display_data"
    }
   ],
   "source": [
    "pred_test = load_model[i_best][j_best].predict(x_test)\n",
    "pred_val = load_model[i_best][j_best].predict(x_val)\n",
    "pred_train = load_model[i_best][j_best].predict(x_train)\n",
    "\n",
    "\n",
    "pred_val = list(pred_val.reshape((1, len(pred_val)))[0])\n",
    "pred_train = list(pred_train.reshape((1, len(pred_train)))[0])\n",
    "pred_test = list(pred_test.reshape((1, len(pred_test)))[0])\n",
    "\n",
    "\n",
    "plt.figure(figsize(10,5))\n",
    "plt.plot(y_test.index, pred_test, color = 'r')\n",
    "plt.plot(y_test.index, y_test.values)\n",
    "print (metrics.mean_absolute_error(y_test.values,pred_test))\n",
    "print (metrics.r2_score(y_test.values,pred_test))"
   ]
  },
  {
   "cell_type": "code",
   "execution_count": 14,
   "metadata": {},
   "outputs": [],
   "source": [
    "x_test_2 = x_test[:]"
   ]
  },
  {
   "cell_type": "code",
   "execution_count": 15,
   "metadata": {},
   "outputs": [
    {
     "data": {
      "text/html": [
       "<div>\n",
       "<style scoped>\n",
       "    .dataframe tbody tr th:only-of-type {\n",
       "        vertical-align: middle;\n",
       "    }\n",
       "\n",
       "    .dataframe tbody tr th {\n",
       "        vertical-align: top;\n",
       "    }\n",
       "\n",
       "    .dataframe thead th {\n",
       "        text-align: right;\n",
       "    }\n",
       "</style>\n",
       "<table border=\"1\" class=\"dataframe\">\n",
       "  <thead>\n",
       "    <tr style=\"text-align: right;\">\n",
       "      <th></th>\n",
       "      <th>unemployment_cyclicity_lag_1</th>\n",
       "      <th>unemployment_cyclicity_lag_2</th>\n",
       "      <th>unemployment_cyclicity_lag_3</th>\n",
       "      <th>unemployment_cyclicity_lag_4</th>\n",
       "      <th>unemployment_cyclicity_lag_5</th>\n",
       "      <th>GDP_cyclicity_lag_1</th>\n",
       "      <th>GDP_cyclicity_lag_2</th>\n",
       "      <th>GDP_cyclicity_lag_3</th>\n",
       "    </tr>\n",
       "  </thead>\n",
       "  <tbody>\n",
       "    <tr>\n",
       "      <th>2014.25</th>\n",
       "      <td>-0.048167</td>\n",
       "      <td>-0.039545</td>\n",
       "      <td>-0.039611</td>\n",
       "      <td>-0.055057</td>\n",
       "      <td>-0.078589</td>\n",
       "      <td>0.017511</td>\n",
       "      <td>0.016362</td>\n",
       "      <td>0.016110</td>\n",
       "    </tr>\n",
       "    <tr>\n",
       "      <th>2014.50</th>\n",
       "      <td>-0.057857</td>\n",
       "      <td>-0.048167</td>\n",
       "      <td>-0.039545</td>\n",
       "      <td>-0.039611</td>\n",
       "      <td>-0.055057</td>\n",
       "      <td>0.017804</td>\n",
       "      <td>0.017511</td>\n",
       "      <td>0.016362</td>\n",
       "    </tr>\n",
       "    <tr>\n",
       "      <th>2014.75</th>\n",
       "      <td>-0.058753</td>\n",
       "      <td>-0.057857</td>\n",
       "      <td>-0.048167</td>\n",
       "      <td>-0.039545</td>\n",
       "      <td>-0.039611</td>\n",
       "      <td>0.014936</td>\n",
       "      <td>0.017804</td>\n",
       "      <td>0.017511</td>\n",
       "    </tr>\n",
       "    <tr>\n",
       "      <th>2015.00</th>\n",
       "      <td>-0.039524</td>\n",
       "      <td>-0.058753</td>\n",
       "      <td>-0.057857</td>\n",
       "      <td>-0.048167</td>\n",
       "      <td>-0.039545</td>\n",
       "      <td>0.007688</td>\n",
       "      <td>0.014936</td>\n",
       "      <td>0.017804</td>\n",
       "    </tr>\n",
       "    <tr>\n",
       "      <th>2015.25</th>\n",
       "      <td>-0.011284</td>\n",
       "      <td>-0.039524</td>\n",
       "      <td>-0.058753</td>\n",
       "      <td>-0.057857</td>\n",
       "      <td>-0.048167</td>\n",
       "      <td>-0.000313</td>\n",
       "      <td>0.007688</td>\n",
       "      <td>0.014936</td>\n",
       "    </tr>\n",
       "  </tbody>\n",
       "</table>\n",
       "</div>"
      ],
      "text/plain": [
       "         unemployment_cyclicity_lag_1  unemployment_cyclicity_lag_2  \\\n",
       "2014.25                     -0.048167                     -0.039545   \n",
       "2014.50                     -0.057857                     -0.048167   \n",
       "2014.75                     -0.058753                     -0.057857   \n",
       "2015.00                     -0.039524                     -0.058753   \n",
       "2015.25                     -0.011284                     -0.039524   \n",
       "\n",
       "         unemployment_cyclicity_lag_3  unemployment_cyclicity_lag_4  \\\n",
       "2014.25                     -0.039611                     -0.055057   \n",
       "2014.50                     -0.039545                     -0.039611   \n",
       "2014.75                     -0.048167                     -0.039545   \n",
       "2015.00                     -0.057857                     -0.048167   \n",
       "2015.25                     -0.058753                     -0.057857   \n",
       "\n",
       "         unemployment_cyclicity_lag_5  GDP_cyclicity_lag_1  \\\n",
       "2014.25                     -0.078589             0.017511   \n",
       "2014.50                     -0.055057             0.017804   \n",
       "2014.75                     -0.039611             0.014936   \n",
       "2015.00                     -0.039545             0.007688   \n",
       "2015.25                     -0.048167            -0.000313   \n",
       "\n",
       "         GDP_cyclicity_lag_2  GDP_cyclicity_lag_3  \n",
       "2014.25             0.016362             0.016110  \n",
       "2014.50             0.017511             0.016362  \n",
       "2014.75             0.017804             0.017511  \n",
       "2015.00             0.014936             0.017804  \n",
       "2015.25             0.007688             0.014936  "
      ]
     },
     "execution_count": 15,
     "metadata": {},
     "output_type": "execute_result"
    }
   ],
   "source": [
    "x_test_2.head()"
   ]
  },
  {
   "cell_type": "code",
   "execution_count": 16,
   "metadata": {},
   "outputs": [
    {
     "data": {
      "text/plain": [
       "unemployment_cyclicity_lag_1   -0.057857\n",
       "unemployment_cyclicity_lag_2   -0.048167\n",
       "unemployment_cyclicity_lag_3   -0.039545\n",
       "unemployment_cyclicity_lag_4   -0.039611\n",
       "unemployment_cyclicity_lag_5   -0.055057\n",
       "GDP_cyclicity_lag_1             0.017804\n",
       "GDP_cyclicity_lag_2             0.017511\n",
       "GDP_cyclicity_lag_3             0.016362\n",
       "Name: 2014.5, dtype: float64"
      ]
     },
     "execution_count": 16,
     "metadata": {},
     "output_type": "execute_result"
    }
   ],
   "source": [
    "x_test_2.iloc[1]"
   ]
  },
  {
   "cell_type": "code",
   "execution_count": 17,
   "metadata": {},
   "outputs": [
    {
     "name": "stderr",
     "output_type": "stream",
     "text": [
      "/home/vladimir/anaconda3/lib/python3.6/site-packages/ipykernel_launcher.py:2: SettingWithCopyWarning: \n",
      "A value is trying to be set on a copy of a slice from a DataFrame\n",
      "\n",
      "See the caveats in the documentation: http://pandas.pydata.org/pandas-docs/stable/indexing.html#indexing-view-versus-copy\n",
      "  \n"
     ]
    }
   ],
   "source": [
    "for i in range(10,100):\n",
    "    x_test_2.loc[12+i] = list(x_test_2.iloc[1])[:6] + [0.010511 + i * 0.003] + list(x_test_2.iloc[1])[7:]"
   ]
  },
  {
   "cell_type": "code",
   "execution_count": 18,
   "metadata": {},
   "outputs": [
    {
     "data": {
      "text/html": [
       "<div>\n",
       "<style scoped>\n",
       "    .dataframe tbody tr th:only-of-type {\n",
       "        vertical-align: middle;\n",
       "    }\n",
       "\n",
       "    .dataframe tbody tr th {\n",
       "        vertical-align: top;\n",
       "    }\n",
       "\n",
       "    .dataframe thead th {\n",
       "        text-align: right;\n",
       "    }\n",
       "</style>\n",
       "<table border=\"1\" class=\"dataframe\">\n",
       "  <thead>\n",
       "    <tr style=\"text-align: right;\">\n",
       "      <th></th>\n",
       "      <th>unemployment_cyclicity_lag_1</th>\n",
       "      <th>unemployment_cyclicity_lag_2</th>\n",
       "      <th>unemployment_cyclicity_lag_3</th>\n",
       "      <th>unemployment_cyclicity_lag_4</th>\n",
       "      <th>unemployment_cyclicity_lag_5</th>\n",
       "      <th>GDP_cyclicity_lag_1</th>\n",
       "      <th>GDP_cyclicity_lag_2</th>\n",
       "      <th>GDP_cyclicity_lag_3</th>\n",
       "    </tr>\n",
       "  </thead>\n",
       "  <tbody>\n",
       "    <tr>\n",
       "      <th>2017.0</th>\n",
       "      <td>0.017972</td>\n",
       "      <td>0.035348</td>\n",
       "      <td>0.048324</td>\n",
       "      <td>0.052475</td>\n",
       "      <td>0.047457</td>\n",
       "      <td>-0.008231</td>\n",
       "      <td>-0.012339</td>\n",
       "      <td>-0.013727</td>\n",
       "    </tr>\n",
       "    <tr>\n",
       "      <th>22.0</th>\n",
       "      <td>-0.057857</td>\n",
       "      <td>-0.048167</td>\n",
       "      <td>-0.039545</td>\n",
       "      <td>-0.039611</td>\n",
       "      <td>-0.055057</td>\n",
       "      <td>0.017804</td>\n",
       "      <td>0.040511</td>\n",
       "      <td>0.016362</td>\n",
       "    </tr>\n",
       "    <tr>\n",
       "      <th>23.0</th>\n",
       "      <td>-0.057857</td>\n",
       "      <td>-0.048167</td>\n",
       "      <td>-0.039545</td>\n",
       "      <td>-0.039611</td>\n",
       "      <td>-0.055057</td>\n",
       "      <td>0.017804</td>\n",
       "      <td>0.043511</td>\n",
       "      <td>0.016362</td>\n",
       "    </tr>\n",
       "    <tr>\n",
       "      <th>24.0</th>\n",
       "      <td>-0.057857</td>\n",
       "      <td>-0.048167</td>\n",
       "      <td>-0.039545</td>\n",
       "      <td>-0.039611</td>\n",
       "      <td>-0.055057</td>\n",
       "      <td>0.017804</td>\n",
       "      <td>0.046511</td>\n",
       "      <td>0.016362</td>\n",
       "    </tr>\n",
       "    <tr>\n",
       "      <th>25.0</th>\n",
       "      <td>-0.057857</td>\n",
       "      <td>-0.048167</td>\n",
       "      <td>-0.039545</td>\n",
       "      <td>-0.039611</td>\n",
       "      <td>-0.055057</td>\n",
       "      <td>0.017804</td>\n",
       "      <td>0.049511</td>\n",
       "      <td>0.016362</td>\n",
       "    </tr>\n",
       "  </tbody>\n",
       "</table>\n",
       "</div>"
      ],
      "text/plain": [
       "        unemployment_cyclicity_lag_1  unemployment_cyclicity_lag_2  \\\n",
       "2017.0                      0.017972                      0.035348   \n",
       "22.0                       -0.057857                     -0.048167   \n",
       "23.0                       -0.057857                     -0.048167   \n",
       "24.0                       -0.057857                     -0.048167   \n",
       "25.0                       -0.057857                     -0.048167   \n",
       "\n",
       "        unemployment_cyclicity_lag_3  unemployment_cyclicity_lag_4  \\\n",
       "2017.0                      0.048324                      0.052475   \n",
       "22.0                       -0.039545                     -0.039611   \n",
       "23.0                       -0.039545                     -0.039611   \n",
       "24.0                       -0.039545                     -0.039611   \n",
       "25.0                       -0.039545                     -0.039611   \n",
       "\n",
       "        unemployment_cyclicity_lag_5  GDP_cyclicity_lag_1  \\\n",
       "2017.0                      0.047457            -0.008231   \n",
       "22.0                       -0.055057             0.017804   \n",
       "23.0                       -0.055057             0.017804   \n",
       "24.0                       -0.055057             0.017804   \n",
       "25.0                       -0.055057             0.017804   \n",
       "\n",
       "        GDP_cyclicity_lag_2  GDP_cyclicity_lag_3  \n",
       "2017.0            -0.012339            -0.013727  \n",
       "22.0               0.040511             0.016362  \n",
       "23.0               0.043511             0.016362  \n",
       "24.0               0.046511             0.016362  \n",
       "25.0               0.049511             0.016362  "
      ]
     },
     "execution_count": 18,
     "metadata": {},
     "output_type": "execute_result"
    }
   ],
   "source": [
    "x_test_3 = x_test_2.iloc[11:]\n",
    "x_test_3.head()"
   ]
  },
  {
   "cell_type": "code",
   "execution_count": 19,
   "metadata": {},
   "outputs": [
    {
     "data": {
      "text/plain": [
       "[<matplotlib.lines.Line2D at 0x7f69bc0960f0>]"
      ]
     },
     "execution_count": 19,
     "metadata": {},
     "output_type": "execute_result"
    },
    {
     "data": {
      "image/png": "[encoded data removed]",
      "text/plain": [
       "<matplotlib.figure.Figure at 0x7f69f033b940>"
      ]
     },
     "metadata": {},
     "output_type": "display_data"
    }
   ],
   "source": [
    "plt.plot(x_test_3.GDP_cyclicity_lag_2.values[1:], load_model[i_best][j_best].predict(x_test_3)[1:],'g*' )"
   ]
  },
  {
   "cell_type": "code",
   "execution_count": 20,
   "metadata": {},
   "outputs": [
    {
     "name": "stderr",
     "output_type": "stream",
     "text": [
      "/home/vladimir/anaconda3/lib/python3.6/site-packages/ipykernel_launcher.py:3: SettingWithCopyWarning: \n",
      "A value is trying to be set on a copy of a slice from a DataFrame\n",
      "\n",
      "See the caveats in the documentation: http://pandas.pydata.org/pandas-docs/stable/indexing.html#indexing-view-versus-copy\n",
      "  This is separate from the ipykernel package so we can avoid doing imports until\n"
     ]
    },
    {
     "data": {
      "text/plain": [
       "[<matplotlib.lines.Line2D at 0x7f69f038fba8>]"
      ]
     },
     "execution_count": 20,
     "metadata": {},
     "output_type": "execute_result"
    },
    {
     "data": {
      "image/png": "[encoded data removed]",
      "text/plain": [
       "<matplotlib.figure.Figure at 0x7f69bc028748>"
      ]
     },
     "metadata": {},
     "output_type": "display_data"
    }
   ],
   "source": [
    "x_test_2 = x_test[:]\n",
    "for i in range(90):\n",
    "    x_test_2.loc[12+i] = list(x_test_2.iloc[1])[:7] + [0.07511 + i * 0.003] + list(x_test_2.iloc[1])[8:]\n",
    "x_test_3 = x_test_2.iloc[11:]\n",
    "plt.plot(x_test_3.GDP_cyclicity_lag_3.values[1:], load_model[i_best][j_best].predict(x_test_3)[1:],'g*' )"
   ]
  },
  {
   "cell_type": "code",
   "execution_count": 21,
   "metadata": {},
   "outputs": [
    {
     "name": "stderr",
     "output_type": "stream",
     "text": [
      "/home/vladimir/anaconda3/lib/python3.6/site-packages/ipykernel_launcher.py:3: SettingWithCopyWarning: \n",
      "A value is trying to be set on a copy of a slice from a DataFrame\n",
      "\n",
      "See the caveats in the documentation: http://pandas.pydata.org/pandas-docs/stable/indexing.html#indexing-view-versus-copy\n",
      "  This is separate from the ipykernel package so we can avoid doing imports until\n"
     ]
    },
    {
     "data": {
      "text/plain": [
       "[<matplotlib.lines.Line2D at 0x7f69f04157b8>]"
      ]
     },
     "execution_count": 21,
     "metadata": {},
     "output_type": "execute_result"
    },
    {
     "data": {
      "image/png": "[encoded data removed]",
      "text/plain": [
       "<matplotlib.figure.Figure at 0x7f69f03e7da0>"
      ]
     },
     "metadata": {},
     "output_type": "display_data"
    }
   ],
   "source": [
    "x_test_2 = x_test[:]\n",
    "for i in range(90):\n",
    "    x_test_2.loc[12+i] = list(x_test_2.iloc[1])[:5] + [0.07511 + i * 0.003] + list(x_test_2.iloc[1])[6:]\n",
    "x_test_3 = x_test_2.iloc[11:]\n",
    "plt.plot(x_test_3.GDP_cyclicity_lag_1.values[1:], load_model[i_best][j_best].predict(x_test_3)[1:],'g*' )"
   ]
  },
  {
   "cell_type": "code",
   "execution_count": 22,
   "metadata": {},
   "outputs": [
    {
     "name": "stdout",
     "output_type": "stream",
     "text": [
      "_________________________________________________________________\n",
      "Layer (type)                 Output Shape              Param #   \n",
      "=================================================================\n",
      "dense_25 (Dense)             (None, 6)                 54        \n",
      "_________________________________________________________________\n",
      "dropout_9 (Dropout)          (None, 6)                 0         \n",
      "_________________________________________________________________\n",
      "dense_26 (Dense)             (None, 8)                 56        \n",
      "_________________________________________________________________\n",
      "dense_27 (Dense)             (None, 1)                 9         \n",
      "=================================================================\n",
      "Total params: 119\n",
      "Trainable params: 119\n",
      "Non-trainable params: 0\n",
      "_________________________________________________________________\n"
     ]
    }
   ],
   "source": [
    "load_model[i_best][j_best].summary()"
   ]
  },
  {
   "cell_type": "markdown",
   "metadata": {},
   "source": [
    "# линеная модель для ВВП"
   ]
  },
  {
   "cell_type": "code",
   "execution_count": 23,
   "metadata": {},
   "outputs": [
    {
     "data": {
      "text/plain": [
       "LinearRegression(copy_X=True, fit_intercept=True, n_jobs=1, normalize=False)"
      ]
     },
     "execution_count": 23,
     "metadata": {},
     "output_type": "execute_result"
    }
   ],
   "source": [
    "from sklearn.linear_model import LinearRegression\n",
    "LinearRegression_model = LinearRegression()\n",
    "GDP_y = x_train['GDP_cyclicity_lag_1']\n",
    "GDP_x = x_train[['GDP_cyclicity_lag_2','GDP_cyclicity_lag_3']]\n",
    "LinearRegression_model.fit(GDP_x, GDP_y.values)"
   ]
  },
  {
   "cell_type": "markdown",
   "metadata": {},
   "source": [
    "# Положительный шок ВВП"
   ]
  },
  {
   "cell_type": "code",
   "execution_count": 24,
   "metadata": {},
   "outputs": [],
   "source": [
    "x_test_2 = x_test.iloc[:1]"
   ]
  },
  {
   "cell_type": "code",
   "execution_count": 25,
   "metadata": {},
   "outputs": [
    {
     "data": {
      "text/html": [
       "<div>\n",
       "<style scoped>\n",
       "    .dataframe tbody tr th:only-of-type {\n",
       "        vertical-align: middle;\n",
       "    }\n",
       "\n",
       "    .dataframe tbody tr th {\n",
       "        vertical-align: top;\n",
       "    }\n",
       "\n",
       "    .dataframe thead th {\n",
       "        text-align: right;\n",
       "    }\n",
       "</style>\n",
       "<table border=\"1\" class=\"dataframe\">\n",
       "  <thead>\n",
       "    <tr style=\"text-align: right;\">\n",
       "      <th></th>\n",
       "      <th>unemployment_cyclicity_lag_1</th>\n",
       "      <th>unemployment_cyclicity_lag_2</th>\n",
       "      <th>unemployment_cyclicity_lag_3</th>\n",
       "      <th>unemployment_cyclicity_lag_4</th>\n",
       "      <th>unemployment_cyclicity_lag_5</th>\n",
       "      <th>GDP_cyclicity_lag_1</th>\n",
       "      <th>GDP_cyclicity_lag_2</th>\n",
       "      <th>GDP_cyclicity_lag_3</th>\n",
       "    </tr>\n",
       "  </thead>\n",
       "  <tbody>\n",
       "    <tr>\n",
       "      <th>2014.25</th>\n",
       "      <td>-0.048167</td>\n",
       "      <td>-0.039545</td>\n",
       "      <td>-0.039611</td>\n",
       "      <td>-0.055057</td>\n",
       "      <td>-0.078589</td>\n",
       "      <td>0.017511</td>\n",
       "      <td>0.016362</td>\n",
       "      <td>0.01611</td>\n",
       "    </tr>\n",
       "  </tbody>\n",
       "</table>\n",
       "</div>"
      ],
      "text/plain": [
       "         unemployment_cyclicity_lag_1  unemployment_cyclicity_lag_2  \\\n",
       "2014.25                     -0.048167                     -0.039545   \n",
       "\n",
       "         unemployment_cyclicity_lag_3  unemployment_cyclicity_lag_4  \\\n",
       "2014.25                     -0.039611                     -0.055057   \n",
       "\n",
       "         unemployment_cyclicity_lag_5  GDP_cyclicity_lag_1  \\\n",
       "2014.25                     -0.078589             0.017511   \n",
       "\n",
       "         GDP_cyclicity_lag_2  GDP_cyclicity_lag_3  \n",
       "2014.25             0.016362              0.01611  "
      ]
     },
     "execution_count": 25,
     "metadata": {},
     "output_type": "execute_result"
    }
   ],
   "source": [
    "x_test_2"
   ]
  },
  {
   "cell_type": "code",
   "execution_count": 26,
   "metadata": {},
   "outputs": [
    {
     "name": "stderr",
     "output_type": "stream",
     "text": [
      "/home/vladimir/anaconda3/lib/python3.6/site-packages/ipykernel_launcher.py:2: SettingWithCopyWarning: \n",
      "A value is trying to be set on a copy of a slice from a DataFrame\n",
      "\n",
      "See the caveats in the documentation: http://pandas.pydata.org/pandas-docs/stable/indexing.html#indexing-view-versus-copy\n",
      "  \n"
     ]
    }
   ],
   "source": [
    "#Положительный импульс\n",
    "x_test_2.loc[2014.50] = list(x_test_2.loc[2014.25])[:5] + [0.017511 + 1] + list(x_test_2.loc[2014.25])[6:]"
   ]
  },
  {
   "cell_type": "code",
   "execution_count": 27,
   "metadata": {},
   "outputs": [
    {
     "data": {
      "text/html": [
       "<div>\n",
       "<style scoped>\n",
       "    .dataframe tbody tr th:only-of-type {\n",
       "        vertical-align: middle;\n",
       "    }\n",
       "\n",
       "    .dataframe tbody tr th {\n",
       "        vertical-align: top;\n",
       "    }\n",
       "\n",
       "    .dataframe thead th {\n",
       "        text-align: right;\n",
       "    }\n",
       "</style>\n",
       "<table border=\"1\" class=\"dataframe\">\n",
       "  <thead>\n",
       "    <tr style=\"text-align: right;\">\n",
       "      <th></th>\n",
       "      <th>unemployment_cyclicity_lag_1</th>\n",
       "      <th>unemployment_cyclicity_lag_2</th>\n",
       "      <th>unemployment_cyclicity_lag_3</th>\n",
       "      <th>unemployment_cyclicity_lag_4</th>\n",
       "      <th>unemployment_cyclicity_lag_5</th>\n",
       "      <th>GDP_cyclicity_lag_1</th>\n",
       "      <th>GDP_cyclicity_lag_2</th>\n",
       "      <th>GDP_cyclicity_lag_3</th>\n",
       "    </tr>\n",
       "  </thead>\n",
       "  <tbody>\n",
       "    <tr>\n",
       "      <th>2014.25</th>\n",
       "      <td>-0.048167</td>\n",
       "      <td>-0.039545</td>\n",
       "      <td>-0.039611</td>\n",
       "      <td>-0.055057</td>\n",
       "      <td>-0.078589</td>\n",
       "      <td>0.017511</td>\n",
       "      <td>0.016362</td>\n",
       "      <td>0.01611</td>\n",
       "    </tr>\n",
       "    <tr>\n",
       "      <th>2014.50</th>\n",
       "      <td>-0.048167</td>\n",
       "      <td>-0.039545</td>\n",
       "      <td>-0.039611</td>\n",
       "      <td>-0.055057</td>\n",
       "      <td>-0.078589</td>\n",
       "      <td>1.017511</td>\n",
       "      <td>0.016362</td>\n",
       "      <td>0.01611</td>\n",
       "    </tr>\n",
       "  </tbody>\n",
       "</table>\n",
       "</div>"
      ],
      "text/plain": [
       "         unemployment_cyclicity_lag_1  unemployment_cyclicity_lag_2  \\\n",
       "2014.25                     -0.048167                     -0.039545   \n",
       "2014.50                     -0.048167                     -0.039545   \n",
       "\n",
       "         unemployment_cyclicity_lag_3  unemployment_cyclicity_lag_4  \\\n",
       "2014.25                     -0.039611                     -0.055057   \n",
       "2014.50                     -0.039611                     -0.055057   \n",
       "\n",
       "         unemployment_cyclicity_lag_5  GDP_cyclicity_lag_1  \\\n",
       "2014.25                     -0.078589             0.017511   \n",
       "2014.50                     -0.078589             1.017511   \n",
       "\n",
       "         GDP_cyclicity_lag_2  GDP_cyclicity_lag_3  \n",
       "2014.25             0.016362              0.01611  \n",
       "2014.50             0.016362              0.01611  "
      ]
     },
     "execution_count": 27,
     "metadata": {},
     "output_type": "execute_result"
    }
   ],
   "source": [
    "x_test_2"
   ]
  },
  {
   "cell_type": "code",
   "execution_count": 28,
   "metadata": {},
   "outputs": [],
   "source": [
    "pred = [x_test.iloc[:1].values[0][0]]\n",
    "pred.append(load_model[i_best][j_best].predict(x_test_2)[-1][0])"
   ]
  },
  {
   "cell_type": "code",
   "execution_count": 29,
   "metadata": {},
   "outputs": [
    {
     "data": {
      "text/plain": [
       "[-0.048167102716005335, -0.3210207]"
      ]
     },
     "execution_count": 29,
     "metadata": {},
     "output_type": "execute_result"
    }
   ],
   "source": [
    "pred"
   ]
  },
  {
   "cell_type": "code",
   "execution_count": 30,
   "metadata": {},
   "outputs": [
    {
     "name": "stderr",
     "output_type": "stream",
     "text": [
      "/home/vladimir/anaconda3/lib/python3.6/site-packages/ipykernel_launcher.py:7: SettingWithCopyWarning: \n",
      "A value is trying to be set on a copy of a slice from a DataFrame\n",
      "\n",
      "See the caveats in the documentation: http://pandas.pydata.org/pandas-docs/stable/indexing.html#indexing-view-versus-copy\n",
      "  import sys\n"
     ]
    }
   ],
   "source": [
    "for i in range(12):\n",
    "    #Создание новой строчки\n",
    "    new_line = []\n",
    "    new_line.append(pred[-1])\n",
    "    new_line = new_line + list(x_test_2.iloc[-1])[0:4]  +[LinearRegression_model.predict(np.array(list(x_test_2.iloc[-1])[5:7]).reshape(1, -1))[0]] +list(x_test_2.iloc[-1])[5:7]\n",
    "    #добавление новой строчки\n",
    "    x_test_2.loc[2014.75+0.25*i] = new_line\n",
    "    pred.append(load_model[i_best][j_best].predict(x_test_2)[-1][0])"
   ]
  },
  {
   "cell_type": "code",
   "execution_count": 31,
   "metadata": {},
   "outputs": [
    {
     "data": {
      "text/html": [
       "<div>\n",
       "<style scoped>\n",
       "    .dataframe tbody tr th:only-of-type {\n",
       "        vertical-align: middle;\n",
       "    }\n",
       "\n",
       "    .dataframe tbody tr th {\n",
       "        vertical-align: top;\n",
       "    }\n",
       "\n",
       "    .dataframe thead th {\n",
       "        text-align: right;\n",
       "    }\n",
       "</style>\n",
       "<table border=\"1\" class=\"dataframe\">\n",
       "  <thead>\n",
       "    <tr style=\"text-align: right;\">\n",
       "      <th></th>\n",
       "      <th>unemployment_cyclicity_lag_1</th>\n",
       "      <th>unemployment_cyclicity_lag_2</th>\n",
       "      <th>unemployment_cyclicity_lag_3</th>\n",
       "      <th>unemployment_cyclicity_lag_4</th>\n",
       "      <th>unemployment_cyclicity_lag_5</th>\n",
       "      <th>GDP_cyclicity_lag_1</th>\n",
       "      <th>GDP_cyclicity_lag_2</th>\n",
       "      <th>GDP_cyclicity_lag_3</th>\n",
       "    </tr>\n",
       "  </thead>\n",
       "  <tbody>\n",
       "    <tr>\n",
       "      <th>2014.25</th>\n",
       "      <td>-0.048167</td>\n",
       "      <td>-0.039545</td>\n",
       "      <td>-0.039611</td>\n",
       "      <td>-0.055057</td>\n",
       "      <td>-0.078589</td>\n",
       "      <td>0.017511</td>\n",
       "      <td>0.016362</td>\n",
       "      <td>0.016110</td>\n",
       "    </tr>\n",
       "    <tr>\n",
       "      <th>2014.50</th>\n",
       "      <td>-0.048167</td>\n",
       "      <td>-0.039545</td>\n",
       "      <td>-0.039611</td>\n",
       "      <td>-0.055057</td>\n",
       "      <td>-0.078589</td>\n",
       "      <td>1.017511</td>\n",
       "      <td>0.016362</td>\n",
       "      <td>0.016110</td>\n",
       "    </tr>\n",
       "    <tr>\n",
       "      <th>2014.75</th>\n",
       "      <td>-0.321021</td>\n",
       "      <td>-0.048167</td>\n",
       "      <td>-0.039545</td>\n",
       "      <td>-0.039611</td>\n",
       "      <td>-0.055057</td>\n",
       "      <td>1.768449</td>\n",
       "      <td>1.017511</td>\n",
       "      <td>0.016362</td>\n",
       "    </tr>\n",
       "    <tr>\n",
       "      <th>2015.00</th>\n",
       "      <td>-0.592592</td>\n",
       "      <td>-0.321021</td>\n",
       "      <td>-0.048167</td>\n",
       "      <td>-0.039545</td>\n",
       "      <td>-0.039611</td>\n",
       "      <td>2.191856</td>\n",
       "      <td>1.768449</td>\n",
       "      <td>1.017511</td>\n",
       "    </tr>\n",
       "    <tr>\n",
       "      <th>2015.25</th>\n",
       "      <td>-0.575947</td>\n",
       "      <td>-0.592592</td>\n",
       "      <td>-0.321021</td>\n",
       "      <td>-0.048167</td>\n",
       "      <td>-0.039545</td>\n",
       "      <td>2.264347</td>\n",
       "      <td>2.191856</td>\n",
       "      <td>1.768449</td>\n",
       "    </tr>\n",
       "    <tr>\n",
       "      <th>2015.50</th>\n",
       "      <td>-0.348065</td>\n",
       "      <td>-0.575947</td>\n",
       "      <td>-0.592592</td>\n",
       "      <td>-0.321021</td>\n",
       "      <td>-0.048167</td>\n",
       "      <td>2.013879</td>\n",
       "      <td>2.264347</td>\n",
       "      <td>2.191856</td>\n",
       "    </tr>\n",
       "    <tr>\n",
       "      <th>2015.75</th>\n",
       "      <td>-0.066327</td>\n",
       "      <td>-0.348065</td>\n",
       "      <td>-0.575947</td>\n",
       "      <td>-0.592592</td>\n",
       "      <td>-0.321021</td>\n",
       "      <td>1.510292</td>\n",
       "      <td>2.013879</td>\n",
       "      <td>2.264347</td>\n",
       "    </tr>\n",
       "    <tr>\n",
       "      <th>2016.00</th>\n",
       "      <td>0.085523</td>\n",
       "      <td>-0.066327</td>\n",
       "      <td>-0.348065</td>\n",
       "      <td>-0.575947</td>\n",
       "      <td>-0.592592</td>\n",
       "      <td>0.851065</td>\n",
       "      <td>1.510292</td>\n",
       "      <td>2.013879</td>\n",
       "    </tr>\n",
       "    <tr>\n",
       "      <th>2016.25</th>\n",
       "      <td>0.081520</td>\n",
       "      <td>0.085523</td>\n",
       "      <td>-0.066327</td>\n",
       "      <td>-0.348065</td>\n",
       "      <td>-0.575947</td>\n",
       "      <td>0.144754</td>\n",
       "      <td>0.851065</td>\n",
       "      <td>1.510292</td>\n",
       "    </tr>\n",
       "    <tr>\n",
       "      <th>2016.50</th>\n",
       "      <td>0.166010</td>\n",
       "      <td>0.081520</td>\n",
       "      <td>0.085523</td>\n",
       "      <td>-0.066327</td>\n",
       "      <td>-0.348065</td>\n",
       "      <td>-0.505303</td>\n",
       "      <td>0.144754</td>\n",
       "      <td>0.851065</td>\n",
       "    </tr>\n",
       "    <tr>\n",
       "      <th>2016.75</th>\n",
       "      <td>0.260706</td>\n",
       "      <td>0.166010</td>\n",
       "      <td>0.081520</td>\n",
       "      <td>0.085523</td>\n",
       "      <td>-0.066327</td>\n",
       "      <td>-1.014793</td>\n",
       "      <td>-0.505303</td>\n",
       "      <td>0.144754</td>\n",
       "    </tr>\n",
       "    <tr>\n",
       "      <th>2017.00</th>\n",
       "      <td>0.233690</td>\n",
       "      <td>0.260706</td>\n",
       "      <td>0.166010</td>\n",
       "      <td>0.081520</td>\n",
       "      <td>0.085523</td>\n",
       "      <td>-1.328093</td>\n",
       "      <td>-1.014793</td>\n",
       "      <td>-0.505303</td>\n",
       "    </tr>\n",
       "    <tr>\n",
       "      <th>2017.25</th>\n",
       "      <td>0.169067</td>\n",
       "      <td>0.233690</td>\n",
       "      <td>0.260706</td>\n",
       "      <td>0.166010</td>\n",
       "      <td>0.081520</td>\n",
       "      <td>-1.422894</td>\n",
       "      <td>-1.328093</td>\n",
       "      <td>-1.014793</td>\n",
       "    </tr>\n",
       "    <tr>\n",
       "      <th>2017.50</th>\n",
       "      <td>0.035046</td>\n",
       "      <td>0.169067</td>\n",
       "      <td>0.233690</td>\n",
       "      <td>0.260706</td>\n",
       "      <td>0.166010</td>\n",
       "      <td>-1.309696</td>\n",
       "      <td>-1.422894</td>\n",
       "      <td>-1.328093</td>\n",
       "    </tr>\n",
       "  </tbody>\n",
       "</table>\n",
       "</div>"
      ],
      "text/plain": [
       "         unemployment_cyclicity_lag_1  unemployment_cyclicity_lag_2  \\\n",
       "2014.25                     -0.048167                     -0.039545   \n",
       "2014.50                     -0.048167                     -0.039545   \n",
       "2014.75                     -0.321021                     -0.048167   \n",
       "2015.00                     -0.592592                     -0.321021   \n",
       "2015.25                     -0.575947                     -0.592592   \n",
       "2015.50                     -0.348065                     -0.575947   \n",
       "2015.75                     -0.066327                     -0.348065   \n",
       "2016.00                      0.085523                     -0.066327   \n",
       "2016.25                      0.081520                      0.085523   \n",
       "2016.50                      0.166010                      0.081520   \n",
       "2016.75                      0.260706                      0.166010   \n",
       "2017.00                      0.233690                      0.260706   \n",
       "2017.25                      0.169067                      0.233690   \n",
       "2017.50                      0.035046                      0.169067   \n",
       "\n",
       "         unemployment_cyclicity_lag_3  unemployment_cyclicity_lag_4  \\\n",
       "2014.25                     -0.039611                     -0.055057   \n",
       "2014.50                     -0.039611                     -0.055057   \n",
       "2014.75                     -0.039545                     -0.039611   \n",
       "2015.00                     -0.048167                     -0.039545   \n",
       "2015.25                     -0.321021                     -0.048167   \n",
       "2015.50                     -0.592592                     -0.321021   \n",
       "2015.75                     -0.575947                     -0.592592   \n",
       "2016.00                     -0.348065                     -0.575947   \n",
       "2016.25                     -0.066327                     -0.348065   \n",
       "2016.50                      0.085523                     -0.066327   \n",
       "2016.75                      0.081520                      0.085523   \n",
       "2017.00                      0.166010                      0.081520   \n",
       "2017.25                      0.260706                      0.166010   \n",
       "2017.50                      0.233690                      0.260706   \n",
       "\n",
       "         unemployment_cyclicity_lag_5  GDP_cyclicity_lag_1  \\\n",
       "2014.25                     -0.078589             0.017511   \n",
       "2014.50                     -0.078589             1.017511   \n",
       "2014.75                     -0.055057             1.768449   \n",
       "2015.00                     -0.039611             2.191856   \n",
       "2015.25                     -0.039545             2.264347   \n",
       "2015.50                     -0.048167             2.013879   \n",
       "2015.75                     -0.321021             1.510292   \n",
       "2016.00                     -0.592592             0.851065   \n",
       "2016.25                     -0.575947             0.144754   \n",
       "2016.50                     -0.348065            -0.505303   \n",
       "2016.75                     -0.066327            -1.014793   \n",
       "2017.00                      0.085523            -1.328093   \n",
       "2017.25                      0.081520            -1.422894   \n",
       "2017.50                      0.166010            -1.309696   \n",
       "\n",
       "         GDP_cyclicity_lag_2  GDP_cyclicity_lag_3  \n",
       "2014.25             0.016362             0.016110  \n",
       "2014.50             0.016362             0.016110  \n",
       "2014.75             1.017511             0.016362  \n",
       "2015.00             1.768449             1.017511  \n",
       "2015.25             2.191856             1.768449  \n",
       "2015.50             2.264347             2.191856  \n",
       "2015.75             2.013879             2.264347  \n",
       "2016.00             1.510292             2.013879  \n",
       "2016.25             0.851065             1.510292  \n",
       "2016.50             0.144754             0.851065  \n",
       "2016.75            -0.505303             0.144754  \n",
       "2017.00            -1.014793            -0.505303  \n",
       "2017.25            -1.328093            -1.014793  \n",
       "2017.50            -1.422894            -1.328093  "
      ]
     },
     "execution_count": 31,
     "metadata": {},
     "output_type": "execute_result"
    }
   ],
   "source": [
    "x_test_2"
   ]
  },
  {
   "cell_type": "code",
   "execution_count": 32,
   "metadata": {},
   "outputs": [
    {
     "data": {
      "text/plain": [
       "[-0.048167102716005335,\n",
       " -0.3210207,\n",
       " -0.5925917,\n",
       " -0.5759471,\n",
       " -0.34806472,\n",
       " -0.06632711,\n",
       " 0.085522816,\n",
       " 0.08151984,\n",
       " 0.16600986,\n",
       " 0.26070604,\n",
       " 0.23368993,\n",
       " 0.16906708,\n",
       " 0.03504559,\n",
       " -0.21967772]"
      ]
     },
     "execution_count": 32,
     "metadata": {},
     "output_type": "execute_result"
    }
   ],
   "source": [
    "pred"
   ]
  },
  {
   "cell_type": "code",
   "execution_count": 33,
   "metadata": {},
   "outputs": [
    {
     "data": {
      "text/plain": [
       "[<matplotlib.lines.Line2D at 0x7f69f0610780>]"
      ]
     },
     "execution_count": 33,
     "metadata": {},
     "output_type": "execute_result"
    },
    {
     "data": {
      "image/png": "[encoded data removed]",
      "text/plain": [
       "<matplotlib.figure.Figure at 0x7f69f033b1d0>"
      ]
     },
     "metadata": {},
     "output_type": "display_data"
    }
   ],
   "source": [
    "plt.plot(x_test_2.index.values, pred)"
   ]
  },
  {
   "cell_type": "markdown",
   "metadata": {},
   "source": [
    "# Отрицательный шок"
   ]
  },
  {
   "cell_type": "code",
   "execution_count": 34,
   "metadata": {},
   "outputs": [
    {
     "name": "stderr",
     "output_type": "stream",
     "text": [
      "/home/vladimir/anaconda3/lib/python3.6/site-packages/ipykernel_launcher.py:2: SettingWithCopyWarning: \n",
      "A value is trying to be set on a copy of a slice from a DataFrame\n",
      "\n",
      "See the caveats in the documentation: http://pandas.pydata.org/pandas-docs/stable/indexing.html#indexing-view-versus-copy\n",
      "  \n",
      "/home/vladimir/anaconda3/lib/python3.6/site-packages/ipykernel_launcher.py:11: SettingWithCopyWarning: \n",
      "A value is trying to be set on a copy of a slice from a DataFrame\n",
      "\n",
      "See the caveats in the documentation: http://pandas.pydata.org/pandas-docs/stable/indexing.html#indexing-view-versus-copy\n",
      "  # This is added back by InteractiveShellApp.init_path()\n"
     ]
    },
    {
     "data": {
      "text/plain": [
       "[<matplotlib.lines.Line2D at 0x7f69f06f5c88>]"
      ]
     },
     "execution_count": 34,
     "metadata": {},
     "output_type": "execute_result"
    },
    {
     "data": {
      "image/png": "[encoded data removed]",
      "text/plain": [
       "<matplotlib.figure.Figure at 0x7f69f0610748>"
      ]
     },
     "metadata": {},
     "output_type": "display_data"
    }
   ],
   "source": [
    "x_test_2 = x_test.iloc[:1]\n",
    "x_test_2.loc[2014.50] = list(x_test_2.loc[2014.25])[:5] + [0.017511 - 1] + list(x_test_2.loc[2014.25])[6:]\n",
    "pred = [x_test.iloc[:1].values[0][0]]\n",
    "pred.append(load_model[i_best][j_best].predict(x_test_2)[-1][0])\n",
    "for i in range(12):\n",
    "    #Создание новой строчки\n",
    "    new_line = []\n",
    "    new_line.append(pred[-1])\n",
    "    new_line = new_line + list(x_test_2.iloc[-1])[0:4]  +[LinearRegression_model.predict(np.array(list(x_test_2.iloc[-1])[5:7]).reshape(1, -1))[0]] +list(x_test_2.iloc[-1])[5:7]\n",
    "    #добавление новой строчки\n",
    "    x_test_2.loc[2014.75+0.25*i] = new_line\n",
    "    pred.append(load_model[i_best][j_best].predict(x_test_2)[-1][0])\n",
    "plt.plot(x_test_2.index.values, pred)"
   ]
  },
  {
   "cell_type": "code",
   "execution_count": 35,
   "metadata": {},
   "outputs": [
    {
     "data": {
      "text/html": [
       "<div>\n",
       "<style scoped>\n",
       "    .dataframe tbody tr th:only-of-type {\n",
       "        vertical-align: middle;\n",
       "    }\n",
       "\n",
       "    .dataframe tbody tr th {\n",
       "        vertical-align: top;\n",
       "    }\n",
       "\n",
       "    .dataframe thead th {\n",
       "        text-align: right;\n",
       "    }\n",
       "</style>\n",
       "<table border=\"1\" class=\"dataframe\">\n",
       "  <thead>\n",
       "    <tr style=\"text-align: right;\">\n",
       "      <th></th>\n",
       "      <th>unemployment_cyclicity_lag_1</th>\n",
       "      <th>unemployment_cyclicity_lag_2</th>\n",
       "      <th>unemployment_cyclicity_lag_3</th>\n",
       "      <th>unemployment_cyclicity_lag_4</th>\n",
       "      <th>unemployment_cyclicity_lag_5</th>\n",
       "      <th>GDP_cyclicity_lag_1</th>\n",
       "      <th>GDP_cyclicity_lag_2</th>\n",
       "      <th>GDP_cyclicity_lag_3</th>\n",
       "    </tr>\n",
       "  </thead>\n",
       "  <tbody>\n",
       "    <tr>\n",
       "      <th>2014.25</th>\n",
       "      <td>-0.048167</td>\n",
       "      <td>-0.039545</td>\n",
       "      <td>-0.039611</td>\n",
       "      <td>-0.055057</td>\n",
       "      <td>-0.078589</td>\n",
       "      <td>0.017511</td>\n",
       "      <td>0.016362</td>\n",
       "      <td>0.016110</td>\n",
       "    </tr>\n",
       "    <tr>\n",
       "      <th>2014.50</th>\n",
       "      <td>-0.048167</td>\n",
       "      <td>-0.039545</td>\n",
       "      <td>-0.039611</td>\n",
       "      <td>-0.055057</td>\n",
       "      <td>-0.078589</td>\n",
       "      <td>-0.982489</td>\n",
       "      <td>0.016362</td>\n",
       "      <td>0.016110</td>\n",
       "    </tr>\n",
       "    <tr>\n",
       "      <th>2014.75</th>\n",
       "      <td>0.213846</td>\n",
       "      <td>-0.048167</td>\n",
       "      <td>-0.039545</td>\n",
       "      <td>-0.039611</td>\n",
       "      <td>-0.055057</td>\n",
       "      <td>-1.736598</td>\n",
       "      <td>-0.982489</td>\n",
       "      <td>0.016362</td>\n",
       "    </tr>\n",
       "    <tr>\n",
       "      <th>2015.00</th>\n",
       "      <td>0.213374</td>\n",
       "      <td>0.213846</td>\n",
       "      <td>-0.048167</td>\n",
       "      <td>-0.039545</td>\n",
       "      <td>-0.039611</td>\n",
       "      <td>-2.167611</td>\n",
       "      <td>-1.736598</td>\n",
       "      <td>-0.982489</td>\n",
       "    </tr>\n",
       "    <tr>\n",
       "      <th>2015.25</th>\n",
       "      <td>0.146719</td>\n",
       "      <td>0.213374</td>\n",
       "      <td>0.213846</td>\n",
       "      <td>-0.048167</td>\n",
       "      <td>-0.039545</td>\n",
       "      <td>-2.250604</td>\n",
       "      <td>-2.167611</td>\n",
       "      <td>-1.736598</td>\n",
       "    </tr>\n",
       "    <tr>\n",
       "      <th>2015.50</th>\n",
       "      <td>0.010803</td>\n",
       "      <td>0.146719</td>\n",
       "      <td>0.213374</td>\n",
       "      <td>0.213846</td>\n",
       "      <td>-0.048167</td>\n",
       "      <td>-2.011760</td>\n",
       "      <td>-2.250604</td>\n",
       "      <td>-2.167611</td>\n",
       "    </tr>\n",
       "    <tr>\n",
       "      <th>2015.75</th>\n",
       "      <td>-0.444898</td>\n",
       "      <td>0.010803</td>\n",
       "      <td>0.146719</td>\n",
       "      <td>0.213374</td>\n",
       "      <td>0.213846</td>\n",
       "      <td>-1.519182</td>\n",
       "      <td>-2.011760</td>\n",
       "      <td>-2.250604</td>\n",
       "    </tr>\n",
       "    <tr>\n",
       "      <th>2016.00</th>\n",
       "      <td>-1.194441</td>\n",
       "      <td>-0.444898</td>\n",
       "      <td>0.010803</td>\n",
       "      <td>0.146719</td>\n",
       "      <td>0.213374</td>\n",
       "      <td>-0.868882</td>\n",
       "      <td>-1.519182</td>\n",
       "      <td>-2.011760</td>\n",
       "    </tr>\n",
       "    <tr>\n",
       "      <th>2016.25</th>\n",
       "      <td>-1.622701</td>\n",
       "      <td>-1.194441</td>\n",
       "      <td>-0.444898</td>\n",
       "      <td>0.010803</td>\n",
       "      <td>0.146719</td>\n",
       "      <td>-0.168401</td>\n",
       "      <td>-0.868882</td>\n",
       "      <td>-1.519182</td>\n",
       "    </tr>\n",
       "    <tr>\n",
       "      <th>2016.50</th>\n",
       "      <td>-1.641341</td>\n",
       "      <td>-1.622701</td>\n",
       "      <td>-1.194441</td>\n",
       "      <td>-0.444898</td>\n",
       "      <td>0.010803</td>\n",
       "      <td>0.479397</td>\n",
       "      <td>-0.168401</td>\n",
       "      <td>-0.868882</td>\n",
       "    </tr>\n",
       "    <tr>\n",
       "      <th>2016.75</th>\n",
       "      <td>-1.430915</td>\n",
       "      <td>-1.641341</td>\n",
       "      <td>-1.622701</td>\n",
       "      <td>-1.194441</td>\n",
       "      <td>-0.444898</td>\n",
       "      <td>0.990128</td>\n",
       "      <td>0.479397</td>\n",
       "      <td>-0.168401</td>\n",
       "    </tr>\n",
       "    <tr>\n",
       "      <th>2017.00</th>\n",
       "      <td>-0.975769</td>\n",
       "      <td>-1.430915</td>\n",
       "      <td>-1.641341</td>\n",
       "      <td>-1.622701</td>\n",
       "      <td>-1.194441</td>\n",
       "      <td>1.307615</td>\n",
       "      <td>0.990128</td>\n",
       "      <td>0.479397</td>\n",
       "    </tr>\n",
       "    <tr>\n",
       "      <th>2017.25</th>\n",
       "      <td>-0.491265</td>\n",
       "      <td>-0.975769</td>\n",
       "      <td>-1.430915</td>\n",
       "      <td>-1.641341</td>\n",
       "      <td>-1.622701</td>\n",
       "      <td>1.408648</td>\n",
       "      <td>1.307615</td>\n",
       "      <td>0.990128</td>\n",
       "    </tr>\n",
       "    <tr>\n",
       "      <th>2017.50</th>\n",
       "      <td>-0.145957</td>\n",
       "      <td>-0.491265</td>\n",
       "      <td>-0.975769</td>\n",
       "      <td>-1.430915</td>\n",
       "      <td>-1.641341</td>\n",
       "      <td>1.302640</td>\n",
       "      <td>1.408648</td>\n",
       "      <td>1.307615</td>\n",
       "    </tr>\n",
       "  </tbody>\n",
       "</table>\n",
       "</div>"
      ],
      "text/plain": [
       "         unemployment_cyclicity_lag_1  unemployment_cyclicity_lag_2  \\\n",
       "2014.25                     -0.048167                     -0.039545   \n",
       "2014.50                     -0.048167                     -0.039545   \n",
       "2014.75                      0.213846                     -0.048167   \n",
       "2015.00                      0.213374                      0.213846   \n",
       "2015.25                      0.146719                      0.213374   \n",
       "2015.50                      0.010803                      0.146719   \n",
       "2015.75                     -0.444898                      0.010803   \n",
       "2016.00                     -1.194441                     -0.444898   \n",
       "2016.25                     -1.622701                     -1.194441   \n",
       "2016.50                     -1.641341                     -1.622701   \n",
       "2016.75                     -1.430915                     -1.641341   \n",
       "2017.00                     -0.975769                     -1.430915   \n",
       "2017.25                     -0.491265                     -0.975769   \n",
       "2017.50                     -0.145957                     -0.491265   \n",
       "\n",
       "         unemployment_cyclicity_lag_3  unemployment_cyclicity_lag_4  \\\n",
       "2014.25                     -0.039611                     -0.055057   \n",
       "2014.50                     -0.039611                     -0.055057   \n",
       "2014.75                     -0.039545                     -0.039611   \n",
       "2015.00                     -0.048167                     -0.039545   \n",
       "2015.25                      0.213846                     -0.048167   \n",
       "2015.50                      0.213374                      0.213846   \n",
       "2015.75                      0.146719                      0.213374   \n",
       "2016.00                      0.010803                      0.146719   \n",
       "2016.25                     -0.444898                      0.010803   \n",
       "2016.50                     -1.194441                     -0.444898   \n",
       "2016.75                     -1.622701                     -1.194441   \n",
       "2017.00                     -1.641341                     -1.622701   \n",
       "2017.25                     -1.430915                     -1.641341   \n",
       "2017.50                     -0.975769                     -1.430915   \n",
       "\n",
       "         unemployment_cyclicity_lag_5  GDP_cyclicity_lag_1  \\\n",
       "2014.25                     -0.078589             0.017511   \n",
       "2014.50                     -0.078589            -0.982489   \n",
       "2014.75                     -0.055057            -1.736598   \n",
       "2015.00                     -0.039611            -2.167611   \n",
       "2015.25                     -0.039545            -2.250604   \n",
       "2015.50                     -0.048167            -2.011760   \n",
       "2015.75                      0.213846            -1.519182   \n",
       "2016.00                      0.213374            -0.868882   \n",
       "2016.25                      0.146719            -0.168401   \n",
       "2016.50                      0.010803             0.479397   \n",
       "2016.75                     -0.444898             0.990128   \n",
       "2017.00                     -1.194441             1.307615   \n",
       "2017.25                     -1.622701             1.408648   \n",
       "2017.50                     -1.641341             1.302640   \n",
       "\n",
       "         GDP_cyclicity_lag_2  GDP_cyclicity_lag_3  \n",
       "2014.25             0.016362             0.016110  \n",
       "2014.50             0.016362             0.016110  \n",
       "2014.75            -0.982489             0.016362  \n",
       "2015.00            -1.736598            -0.982489  \n",
       "2015.25            -2.167611            -1.736598  \n",
       "2015.50            -2.250604            -2.167611  \n",
       "2015.75            -2.011760            -2.250604  \n",
       "2016.00            -1.519182            -2.011760  \n",
       "2016.25            -0.868882            -1.519182  \n",
       "2016.50            -0.168401            -0.868882  \n",
       "2016.75             0.479397            -0.168401  \n",
       "2017.00             0.990128             0.479397  \n",
       "2017.25             1.307615             0.990128  \n",
       "2017.50             1.408648             1.307615  "
      ]
     },
     "execution_count": 35,
     "metadata": {},
     "output_type": "execute_result"
    }
   ],
   "source": [
    "x_test_2"
   ]
  },
  {
   "cell_type": "markdown",
   "metadata": {},
   "source": [
    "# Второй вариант"
   ]
  },
  {
   "cell_type": "markdown",
   "metadata": {},
   "source": [
    "# Стабилизация"
   ]
  },
  {
   "cell_type": "code",
   "execution_count": 63,
   "metadata": {},
   "outputs": [
    {
     "name": "stderr",
     "output_type": "stream",
     "text": [
      "/home/vladimir/anaconda3/lib/python3.6/site-packages/ipykernel_launcher.py:2: SettingWithCopyWarning: \n",
      "A value is trying to be set on a copy of a slice from a DataFrame\n",
      "\n",
      "See the caveats in the documentation: http://pandas.pydata.org/pandas-docs/stable/indexing.html#indexing-view-versus-copy\n",
      "  \n",
      "/home/vladimir/anaconda3/lib/python3.6/site-packages/ipykernel_launcher.py:11: SettingWithCopyWarning: \n",
      "A value is trying to be set on a copy of a slice from a DataFrame\n",
      "\n",
      "See the caveats in the documentation: http://pandas.pydata.org/pandas-docs/stable/indexing.html#indexing-view-versus-copy\n",
      "  # This is added back by InteractiveShellApp.init_path()\n"
     ]
    },
    {
     "data": {
      "text/plain": [
       "[<matplotlib.lines.Line2D at 0x7f6955bd9400>]"
      ]
     },
     "execution_count": 63,
     "metadata": {},
     "output_type": "execute_result"
    },
    {
     "data": {
      "image/png": "[encoded data removed]",
      "text/plain": [
       "<matplotlib.figure.Figure at 0x7f6955cf9048>"
      ]
     },
     "metadata": {},
     "output_type": "display_data"
    }
   ],
   "source": [
    "x_test_2 = x_test.iloc[:1]\n",
    "x_test_2.loc[2014.50] = list(x_test_2.loc[2014.25])[:5] + [0.017511] + list(x_test_2.loc[2014.25])[6:]\n",
    "pred = [x_test.iloc[:1].values[0][0]]\n",
    "pred.append(load_model[i_best][j_best].predict(x_test_2)[-1][0])\n",
    "for i in range(80):\n",
    "    #Создание новой строчки\n",
    "    new_line = []\n",
    "    new_line.append(pred[-1])\n",
    "    new_line = new_line + list(x_test_2.iloc[-1])[0:4]  +[LinearRegression_model.predict(np.array(list(x_test_2.iloc[-1])[5:7]).reshape(1, -1))[0]] +list(x_test_2.iloc[-1])[5:7]\n",
    "    #добавление новой строчки\n",
    "    x_test_2.loc[2014.75+0.25*i] = new_line\n",
    "    pred.append(load_model[i_best][j_best].predict(x_test_2)[-1][0])\n",
    "plt.plot(x_test_2.index.values, pred)"
   ]
  },
  {
   "cell_type": "code",
   "execution_count": 58,
   "metadata": {},
   "outputs": [
    {
     "data": {
      "text/html": [
       "<div>\n",
       "<style scoped>\n",
       "    .dataframe tbody tr th:only-of-type {\n",
       "        vertical-align: middle;\n",
       "    }\n",
       "\n",
       "    .dataframe tbody tr th {\n",
       "        vertical-align: top;\n",
       "    }\n",
       "\n",
       "    .dataframe thead th {\n",
       "        text-align: right;\n",
       "    }\n",
       "</style>\n",
       "<table border=\"1\" class=\"dataframe\">\n",
       "  <thead>\n",
       "    <tr style=\"text-align: right;\">\n",
       "      <th></th>\n",
       "      <th>unemployment_cyclicity_lag_1</th>\n",
       "      <th>unemployment_cyclicity_lag_2</th>\n",
       "      <th>unemployment_cyclicity_lag_3</th>\n",
       "      <th>unemployment_cyclicity_lag_4</th>\n",
       "      <th>unemployment_cyclicity_lag_5</th>\n",
       "      <th>GDP_cyclicity_lag_1</th>\n",
       "      <th>GDP_cyclicity_lag_2</th>\n",
       "      <th>GDP_cyclicity_lag_3</th>\n",
       "    </tr>\n",
       "  </thead>\n",
       "  <tbody>\n",
       "    <tr>\n",
       "      <th>2014.25</th>\n",
       "      <td>-0.048167</td>\n",
       "      <td>-0.039545</td>\n",
       "      <td>-0.039611</td>\n",
       "      <td>-0.055057</td>\n",
       "      <td>-0.078589</td>\n",
       "      <td>0.017511</td>\n",
       "      <td>0.016362</td>\n",
       "      <td>0.016110</td>\n",
       "    </tr>\n",
       "    <tr>\n",
       "      <th>2014.50</th>\n",
       "      <td>-0.048167</td>\n",
       "      <td>-0.039545</td>\n",
       "      <td>-0.039611</td>\n",
       "      <td>-0.055057</td>\n",
       "      <td>-0.078589</td>\n",
       "      <td>0.017511</td>\n",
       "      <td>0.016362</td>\n",
       "      <td>0.016110</td>\n",
       "    </tr>\n",
       "    <tr>\n",
       "      <th>2014.75</th>\n",
       "      <td>-0.056171</td>\n",
       "      <td>-0.048167</td>\n",
       "      <td>-0.039545</td>\n",
       "      <td>-0.039611</td>\n",
       "      <td>-0.055057</td>\n",
       "      <td>0.015926</td>\n",
       "      <td>0.017511</td>\n",
       "      <td>0.016362</td>\n",
       "    </tr>\n",
       "    <tr>\n",
       "      <th>2015.00</th>\n",
       "      <td>-0.066905</td>\n",
       "      <td>-0.056171</td>\n",
       "      <td>-0.048167</td>\n",
       "      <td>-0.039545</td>\n",
       "      <td>-0.039611</td>\n",
       "      <td>0.012123</td>\n",
       "      <td>0.015926</td>\n",
       "      <td>0.017511</td>\n",
       "    </tr>\n",
       "    <tr>\n",
       "      <th>2015.25</th>\n",
       "      <td>-0.070067</td>\n",
       "      <td>-0.066905</td>\n",
       "      <td>-0.056171</td>\n",
       "      <td>-0.048167</td>\n",
       "      <td>-0.039545</td>\n",
       "      <td>0.006872</td>\n",
       "      <td>0.012123</td>\n",
       "      <td>0.015926</td>\n",
       "    </tr>\n",
       "  </tbody>\n",
       "</table>\n",
       "</div>"
      ],
      "text/plain": [
       "         unemployment_cyclicity_lag_1  unemployment_cyclicity_lag_2  \\\n",
       "2014.25                     -0.048167                     -0.039545   \n",
       "2014.50                     -0.048167                     -0.039545   \n",
       "2014.75                     -0.056171                     -0.048167   \n",
       "2015.00                     -0.066905                     -0.056171   \n",
       "2015.25                     -0.070067                     -0.066905   \n",
       "\n",
       "         unemployment_cyclicity_lag_3  unemployment_cyclicity_lag_4  \\\n",
       "2014.25                     -0.039611                     -0.055057   \n",
       "2014.50                     -0.039611                     -0.055057   \n",
       "2014.75                     -0.039545                     -0.039611   \n",
       "2015.00                     -0.048167                     -0.039545   \n",
       "2015.25                     -0.056171                     -0.048167   \n",
       "\n",
       "         unemployment_cyclicity_lag_5  GDP_cyclicity_lag_1  \\\n",
       "2014.25                     -0.078589             0.017511   \n",
       "2014.50                     -0.078589             0.017511   \n",
       "2014.75                     -0.055057             0.015926   \n",
       "2015.00                     -0.039611             0.012123   \n",
       "2015.25                     -0.039545             0.006872   \n",
       "\n",
       "         GDP_cyclicity_lag_2  GDP_cyclicity_lag_3  \n",
       "2014.25             0.016362             0.016110  \n",
       "2014.50             0.016362             0.016110  \n",
       "2014.75             0.017511             0.016362  \n",
       "2015.00             0.015926             0.017511  \n",
       "2015.25             0.012123             0.015926  "
      ]
     },
     "execution_count": 58,
     "metadata": {},
     "output_type": "execute_result"
    }
   ],
   "source": [
    "x_test_2.head()"
   ]
  },
  {
   "cell_type": "code",
   "execution_count": 61,
   "metadata": {},
   "outputs": [
    {
     "data": {
      "text/html": [
       "<div>\n",
       "<style scoped>\n",
       "    .dataframe tbody tr th:only-of-type {\n",
       "        vertical-align: middle;\n",
       "    }\n",
       "\n",
       "    .dataframe tbody tr th {\n",
       "        vertical-align: top;\n",
       "    }\n",
       "\n",
       "    .dataframe thead th {\n",
       "        text-align: right;\n",
       "    }\n",
       "</style>\n",
       "<table border=\"1\" class=\"dataframe\">\n",
       "  <thead>\n",
       "    <tr style=\"text-align: right;\">\n",
       "      <th></th>\n",
       "      <th>unemployment_cyclicity_lag_1</th>\n",
       "      <th>unemployment_cyclicity_lag_2</th>\n",
       "      <th>unemployment_cyclicity_lag_3</th>\n",
       "      <th>unemployment_cyclicity_lag_4</th>\n",
       "      <th>unemployment_cyclicity_lag_5</th>\n",
       "      <th>GDP_cyclicity_lag_1</th>\n",
       "      <th>GDP_cyclicity_lag_2</th>\n",
       "      <th>GDP_cyclicity_lag_3</th>\n",
       "    </tr>\n",
       "  </thead>\n",
       "  <tbody>\n",
       "    <tr>\n",
       "      <th>2042.25</th>\n",
       "      <td>-0.053421</td>\n",
       "      <td>0.069686</td>\n",
       "      <td>0.115764</td>\n",
       "      <td>0.141037</td>\n",
       "      <td>0.16247</td>\n",
       "      <td>-0.321778</td>\n",
       "      <td>-0.457335</td>\n",
       "      <td>-0.538228</td>\n",
       "    </tr>\n",
       "  </tbody>\n",
       "</table>\n",
       "</div>"
      ],
      "text/plain": [
       "         unemployment_cyclicity_lag_1  unemployment_cyclicity_lag_2  \\\n",
       "2042.25                     -0.053421                      0.069686   \n",
       "\n",
       "         unemployment_cyclicity_lag_3  unemployment_cyclicity_lag_4  \\\n",
       "2042.25                      0.115764                      0.141037   \n",
       "\n",
       "         unemployment_cyclicity_lag_5  GDP_cyclicity_lag_1  \\\n",
       "2042.25                       0.16247            -0.321778   \n",
       "\n",
       "         GDP_cyclicity_lag_2  GDP_cyclicity_lag_3  \n",
       "2042.25            -0.457335            -0.538228  "
      ]
     },
     "execution_count": 61,
     "metadata": {},
     "output_type": "execute_result"
    }
   ],
   "source": [
    "x_test_2.iloc[-1:]"
   ]
  },
  {
   "cell_type": "markdown",
   "metadata": {},
   "source": [
    "# Положительный шок"
   ]
  },
  {
   "cell_type": "code",
   "execution_count": 60,
   "metadata": {},
   "outputs": [
    {
     "data": {
      "text/plain": [
       "[<matplotlib.lines.Line2D at 0x7f6955c61f98>]"
      ]
     },
     "execution_count": 60,
     "metadata": {},
     "output_type": "execute_result"
    },
    {
     "data": {
      "image/png": "[encoded data removed]",
      "text/plain": [
       "<matplotlib.figure.Figure at 0x7f6955cf9160>"
      ]
     },
     "metadata": {},
     "output_type": "display_data"
    }
   ],
   "source": [
    "x_test_2 = x_test_2.iloc[-1:]\n",
    "x_test_2.loc[2034.75] = list(x_test_2.loc[2034.50])[:5] + [-0.001148+1] + list(x_test_2.loc[2034.50])[6:]\n",
    "pred = [x_test.iloc[:1].values[0][0]]\n",
    "pred.append(load_model[i_best][j_best].predict(x_test_2)[-1][0])\n",
    "for i in range(30):\n",
    "    #Создание новой строчки\n",
    "    new_line = []\n",
    "    new_line.append(pred[-1])\n",
    "    new_line = new_line + list(x_test_2.iloc[-1])[0:4]  +[LinearRegression_model.predict(np.array(list(x_test_2.iloc[-1])[5:7]).reshape(1, -1))[0]] +list(x_test_2.iloc[-1])[5:7]\n",
    "    #добавление новой строчки\n",
    "    x_test_2.loc[2035+0.25*i] = new_line\n",
    "    pred.append(load_model[i_best][j_best].predict(x_test_2)[-1][0])\n",
    "plt.plot(x_test_2.index.values, pred)"
   ]
  },
  {
   "cell_type": "markdown",
   "metadata": {},
   "source": [
    "# Отрицательный шок"
   ]
  },
  {
   "cell_type": "code",
   "execution_count": 64,
   "metadata": {},
   "outputs": [
    {
     "data": {
      "text/plain": [
       "[<matplotlib.lines.Line2D at 0x7f6955bb6860>]"
      ]
     },
     "execution_count": 64,
     "metadata": {},
     "output_type": "execute_result"
    },
    {
     "data": {
      "image/png": "[encoded data removed]",
      "text/plain": [
       "<matplotlib.figure.Figure at 0x7f699005f2e8>"
      ]
     },
     "metadata": {},
     "output_type": "display_data"
    }
   ],
   "source": [
    "x_test_2 = x_test_2.iloc[-1:]\n",
    "x_test_2.loc[2034.75] = list(x_test_2.loc[2034.50])[:5] + [-0.001148-1] + list(x_test_2.loc[2034.50])[6:]\n",
    "pred = [x_test.iloc[:1].values[0][0]]\n",
    "pred.append(load_model[i_best][j_best].predict(x_test_2)[-1][0])\n",
    "for i in range(30):\n",
    "    #Создание новой строчки\n",
    "    new_line = []\n",
    "    new_line.append(pred[-1])\n",
    "    new_line = new_line + list(x_test_2.iloc[-1])[0:4]  +[LinearRegression_model.predict(np.array(list(x_test_2.iloc[-1])[5:7]).reshape(1, -1))[0]] +list(x_test_2.iloc[-1])[5:7]\n",
    "    #добавление новой строчки\n",
    "    x_test_2.loc[2035+0.25*i] = new_line\n",
    "    pred.append(load_model[i_best][j_best].predict(x_test_2)[-1][0])\n",
    "plt.plot(x_test_2.index.values, pred)"
   ]
  },
  {
   "cell_type": "code",
   "execution_count": null,
   "metadata": {},
   "outputs": [],
   "source": []
  }
 ],
 "metadata": {
  "kernelspec": {
   "display_name": "Python 3",
   "language": "python",
   "name": "python3"
  },
  "language_info": {
   "codemirror_mode": {
    "name": "ipython",
    "version": 3
   },
   "file_extension": ".py",
   "mimetype": "text/x-python",
   "name": "python",
   "nbconvert_exporter": "python",
   "pygments_lexer": "ipython3",
   "version": "3.6.4"
  }
 },
 "nbformat": 4,
 "nbformat_minor": 2
}
